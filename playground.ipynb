{
 "cells": [
  {
   "cell_type": "code",
   "execution_count": 1,
   "metadata": {},
   "outputs": [
    {
     "name": "stdout",
     "output_type": "stream",
     "text": [
      "diffusionStyleGAN2\n",
      "diffusionVAE\n",
      "guidedDiffusion_IP\n"
     ]
    }
   ],
   "source": [
    "from framework.Platform import PlatformManager\n",
    "import os\n",
    "\n",
    "platform_manager = PlatformManager()"
   ]
  },
  {
   "cell_type": "code",
   "execution_count": 2,
   "metadata": {},
   "outputs": [
    {
     "name": "stdout",
     "output_type": "stream",
     "text": [
      "True\n"
     ]
    },
    {
     "name": "stderr",
     "output_type": "stream",
     "text": [
      "Creating feature extractor \"inception-v3-compat\" with features ['2048']\n",
      "Extracting statistics from input 1\n",
      "Processing samples                                                               \n",
      "Extracting statistics from input 2\n",
      "Processing samples                                                             \n",
      "Frechet Inception Distance: 87.28443406466317\n"
     ]
    }
   ],
   "source": [
    "import torch_fidelity\n",
    "import torch\n",
    "\n",
    "print(torch.cuda.is_available())\n",
    "\n",
    "metrics_dict = torch_fidelity.calculate_metrics(\n",
    "    input1=platform_manager.helper.real_images_src.get_dataset(), \n",
    "    input2=platform_manager.helper.get_generator_src(\"guidedDiffusion_IP\").get_dataset(), \n",
    "    cuda=True, \n",
    "    isc=False, \n",
    "    fid=True, \n",
    "    kid=False, \n",
    "    prc=False, \n",
    "    verbose=True,\n",
    ")"
   ]
  },
  {
   "cell_type": "code",
   "execution_count": null,
   "metadata": {},
   "outputs": [],
   "source": []
  }
 ],
 "metadata": {
  "kernelspec": {
   "display_name": "GIM-Eval",
   "language": "python",
   "name": "python3"
  },
  "language_info": {
   "codemirror_mode": {
    "name": "ipython",
    "version": 3
   },
   "file_extension": ".py",
   "mimetype": "text/x-python",
   "name": "python",
   "nbconvert_exporter": "python",
   "pygments_lexer": "ipython3",
   "version": "3.10.12"
  },
  "orig_nbformat": 4
 },
 "nbformat": 4,
 "nbformat_minor": 2
}
