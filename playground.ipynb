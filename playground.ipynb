{
 "cells": [
  {
   "cell_type": "code",
   "execution_count": 1,
   "metadata": {},
   "outputs": [
    {
     "name": "stdout",
     "output_type": "stream",
     "text": [
      "[INFO]: Real images source found, name:CelebA_Original\n",
      "[INFO]: 4 different generator sources found. Names:\n",
      "cifar-10\n",
      "diffusionStyleGAN2\n",
      "diffusionVAE\n",
      "guidedDiffusion_IP\n",
      "[INFO]: Comparison real-to-real (True)\n",
      "[START]: Calculating Metrics for cifar-10\n",
      "[INFO]: Start Calculation IS, Source = cifar-10\n"
     ]
    },
    {
     "name": "stderr",
     "output_type": "stream",
     "text": [
      "Creating feature extractor \"inception-v3-compat\" with features ['logits_unbiased']\n",
      "Extracting features from input1\n",
      "                                                                               \r"
     ]
    },
    {
     "ename": "KeyboardInterrupt",
     "evalue": "",
     "output_type": "error",
     "traceback": [
      "\u001b[1;31m---------------------------------------------------------------------------\u001b[0m",
      "\u001b[1;31mKeyboardInterrupt\u001b[0m                         Traceback (most recent call last)",
      "Cell \u001b[1;32mIn[1], line 30\u001b[0m\n\u001b[0;32m     19\u001b[0m platform_cfg \u001b[39m=\u001b[39m PlatformConfig(\n\u001b[0;32m     20\u001b[0m     verbose\u001b[39m=\u001b[39m\u001b[39mTrue\u001b[39;00m,\n\u001b[0;32m     21\u001b[0m     cuda\u001b[39m=\u001b[39m\u001b[39mTrue\u001b[39;00m,\n\u001b[0;32m     22\u001b[0m     save_cpu_ram\u001b[39m=\u001b[39m\u001b[39mFalse\u001b[39;00m,\n\u001b[0;32m     23\u001b[0m     compare_real_to_real\u001b[39m=\u001b[39m\u001b[39mTrue\u001b[39;00m\n\u001b[0;32m     24\u001b[0m )\n\u001b[0;32m     26\u001b[0m platform_manager \u001b[39m=\u001b[39m PlatformManager(real_images_path\u001b[39m=\u001b[39mos\u001b[39m.\u001b[39mpath\u001b[39m.\u001b[39mjoin(os\u001b[39m.\u001b[39mgetcwd(), \u001b[39m\"\u001b[39m\u001b[39moriginal_64\u001b[39m\u001b[39m\"\u001b[39m),\n\u001b[0;32m     27\u001b[0m                                    eval_config\u001b[39m=\u001b[39meval_cfg,\n\u001b[0;32m     28\u001b[0m                                    platform_config\u001b[39m=\u001b[39mplatform_cfg)\n\u001b[1;32m---> 30\u001b[0m result_dict \u001b[39m=\u001b[39m platform_manager\u001b[39m.\u001b[39;49mcalc_metrics()\n\u001b[0;32m     31\u001b[0m result_dict\u001b[39m.\u001b[39mprint()\n\u001b[0;32m     32\u001b[0m result_dict\u001b[39m.\u001b[39mwrite_to_json(file\u001b[39m=\u001b[39m\u001b[39m\"\u001b[39m\u001b[39mis_fid_infty.json\u001b[39m\u001b[39m\"\u001b[39m)\n",
      "File \u001b[1;32md:\\Dokumente\\SoftwareDev\\MasterThesis\\GIM-evaluation\\framework\\platform.py:161\u001b[0m, in \u001b[0;36mPlatformManager.calc_metrics\u001b[1;34m(self)\u001b[0m\n\u001b[0;32m    155\u001b[0m name \u001b[39m=\u001b[39m \u001b[39m\"\u001b[39m\u001b[39mInception Score\u001b[39m\u001b[39m\"\u001b[39m\n\u001b[0;32m    156\u001b[0m metric_is \u001b[39m=\u001b[39m IS(\n\u001b[0;32m    157\u001b[0m     name\u001b[39m=\u001b[39mname,\n\u001b[0;32m    158\u001b[0m     inception_base\u001b[39m=\u001b[39mis_fid_kid_base,\n\u001b[0;32m    159\u001b[0m     generated_img\u001b[39m=\u001b[39mgenerated_img,\n\u001b[0;32m    160\u001b[0m )\n\u001b[1;32m--> 161\u001b[0m mean, std \u001b[39m=\u001b[39m metric_is\u001b[39m.\u001b[39;49mcalculate()\n\u001b[0;32m    162\u001b[0m comparator_dict\u001b[39m.\u001b[39mupdate({name \u001b[39m+\u001b[39m \u001b[39m\"\u001b[39m\u001b[39m Mean\u001b[39m\u001b[39m\"\u001b[39m: mean, name \u001b[39m+\u001b[39m \u001b[39m\"\u001b[39m\u001b[39m Std\u001b[39m\u001b[39m\"\u001b[39m: std})\n\u001b[0;32m    163\u001b[0m \u001b[39mprint\u001b[39m(\u001b[39m\"\u001b[39m\u001b[39m[INFO]: IS finished\u001b[39m\u001b[39m\"\u001b[39m)\n",
      "File \u001b[1;32md:\\Dokumente\\SoftwareDev\\MasterThesis\\GIM-evaluation\\metrics\\is_fid_kid\\metrics.py:19\u001b[0m, in \u001b[0;36mIS.calculate\u001b[1;34m(self)\u001b[0m\n\u001b[0;32m     18\u001b[0m \u001b[39mdef\u001b[39;00m \u001b[39mcalculate\u001b[39m(\u001b[39mself\u001b[39m) \u001b[39m-\u001b[39m\u001b[39m>\u001b[39m \u001b[39mfloat\u001b[39m \u001b[39m|\u001b[39m Tuple[\u001b[39mfloat\u001b[39m, \u001b[39mfloat\u001b[39m]:\n\u001b[1;32m---> 19\u001b[0m     is_mean, is_std \u001b[39m=\u001b[39m \u001b[39mself\u001b[39;49m\u001b[39m.\u001b[39;49minception_base\u001b[39m.\u001b[39;49mget_is(\u001b[39mself\u001b[39;49m\u001b[39m.\u001b[39;49mgenerated_img)\n\u001b[0;32m     20\u001b[0m     \u001b[39mreturn\u001b[39;00m is_mean, is_std\n",
      "File \u001b[1;32md:\\Dokumente\\SoftwareDev\\MasterThesis\\GIM-evaluation\\metrics\\is_fid_kid\\is_fid_kid.py:49\u001b[0m, in \u001b[0;36mIsFidKidBase.get_is\u001b[1;34m(self, generated_img)\u001b[0m\n\u001b[0;32m     44\u001b[0m \u001b[39mdef\u001b[39;00m \u001b[39mget_is\u001b[39m(\u001b[39mself\u001b[39m, generated_img: Dataset) \u001b[39m-\u001b[39m\u001b[39m>\u001b[39m Tuple[\u001b[39mfloat\u001b[39m, \u001b[39mfloat\u001b[39m]:\n\u001b[0;32m     45\u001b[0m \u001b[39m    \u001b[39m\u001b[39m\"\"\"\u001b[39;00m\n\u001b[0;32m     46\u001b[0m \u001b[39m    Return inception score (mean, std)\u001b[39;00m\n\u001b[0;32m     47\u001b[0m \u001b[39m    \"\"\"\u001b[39;00m\n\u001b[1;32m---> 49\u001b[0m     is_dict \u001b[39m=\u001b[39m torch_fidelity\u001b[39m.\u001b[39;49mcalculate_metrics(\n\u001b[0;32m     50\u001b[0m         input1\u001b[39m=\u001b[39;49mgenerated_img,\n\u001b[0;32m     51\u001b[0m         input2\u001b[39m=\u001b[39;49m\u001b[39mNone\u001b[39;49;00m,\n\u001b[0;32m     52\u001b[0m         cuda\u001b[39m=\u001b[39;49m\u001b[39mself\u001b[39;49m\u001b[39m.\u001b[39;49mplatform_config\u001b[39m.\u001b[39;49mcuda,\n\u001b[0;32m     53\u001b[0m         isc\u001b[39m=\u001b[39;49m\u001b[39mTrue\u001b[39;49;00m,\n\u001b[0;32m     54\u001b[0m         verbose\u001b[39m=\u001b[39;49m\u001b[39mself\u001b[39;49m\u001b[39m.\u001b[39;49mplatform_config\u001b[39m.\u001b[39;49mverbose,\n\u001b[0;32m     55\u001b[0m         isc_splits\u001b[39m=\u001b[39;49m\u001b[39mself\u001b[39;49m\u001b[39m.\u001b[39;49meval_config\u001b[39m.\u001b[39;49mis_splits,\n\u001b[0;32m     56\u001b[0m     )\n\u001b[0;32m     57\u001b[0m     \u001b[39mreturn\u001b[39;00m (\n\u001b[0;32m     58\u001b[0m         is_dict[KEY_METRIC_ISC_MEAN],\n\u001b[0;32m     59\u001b[0m         is_dict[KEY_METRIC_ISC_STD],\n\u001b[0;32m     60\u001b[0m     )\n",
      "File \u001b[1;32md:\\dokumente\\softwaredev\\masterthesis\\gim-evaluation\\src\\torch-fidelity\\torch_fidelity\\metrics.py:322\u001b[0m, in \u001b[0;36mcalculate_metrics\u001b[1;34m(**kwargs)\u001b[0m\n\u001b[0;32m    318\u001b[0m have_default_fe_vgg \u001b[39m=\u001b[39m have_prc\n\u001b[0;32m    320\u001b[0m \u001b[39mif\u001b[39;00m fe_name \u001b[39mis\u001b[39;00m \u001b[39mnot\u001b[39;00m \u001b[39mNone\u001b[39;00m \u001b[39mor\u001b[39;00m \u001b[39mnot\u001b[39;00m (have_default_fe_inception \u001b[39mand\u001b[39;00m have_default_fe_vgg):\n\u001b[0;32m    321\u001b[0m     \u001b[39m# using the same non-default feature extractor for all metrics except ppl, or using just one default extractor\u001b[39;00m\n\u001b[1;32m--> 322\u001b[0m     \u001b[39mreturn\u001b[39;00m calculate_metrics_one_feature_extractor(\u001b[39m*\u001b[39m\u001b[39m*\u001b[39mkwargs)\n\u001b[0;32m    324\u001b[0m out \u001b[39m=\u001b[39m {}\n\u001b[0;32m    325\u001b[0m kwargs_subset \u001b[39m=\u001b[39m \u001b[39mdict\u001b[39m(\u001b[39m*\u001b[39m\u001b[39m*\u001b[39mkwargs)\n",
      "File \u001b[1;32md:\\dokumente\\softwaredev\\masterthesis\\gim-evaluation\\src\\torch-fidelity\\torch_fidelity\\metrics.py:67\u001b[0m, in \u001b[0;36mcalculate_metrics_one_feature_extractor\u001b[1;34m(**kwargs)\u001b[0m\n\u001b[0;32m     64\u001b[0m     \u001b[39mreturn\u001b[39;00m metrics\n\u001b[0;32m     66\u001b[0m vprint(verbose, \u001b[39mf\u001b[39m\u001b[39m'\u001b[39m\u001b[39mExtracting features from input1\u001b[39m\u001b[39m'\u001b[39m)\n\u001b[1;32m---> 67\u001b[0m featuresdict_1 \u001b[39m=\u001b[39m extract_featuresdict_from_input_id_cached(\u001b[39m1\u001b[39m, feat_extractor, \u001b[39m*\u001b[39m\u001b[39m*\u001b[39mkwargs)\n\u001b[0;32m     68\u001b[0m featuresdict_2 \u001b[39m=\u001b[39m \u001b[39mNone\u001b[39;00m\n\u001b[0;32m     69\u001b[0m \u001b[39mif\u001b[39;00m input2 \u001b[39mis\u001b[39;00m \u001b[39mnot\u001b[39;00m \u001b[39mNone\u001b[39;00m:\n",
      "File \u001b[1;32md:\\dokumente\\softwaredev\\masterthesis\\gim-evaluation\\src\\torch-fidelity\\torch_fidelity\\utils.py:407\u001b[0m, in \u001b[0;36mextract_featuresdict_from_input_id_cached\u001b[1;34m(input_id, feat_extractor, **kwargs)\u001b[0m\n\u001b[0;32m    400\u001b[0m     featuresdict \u001b[39m=\u001b[39m cache_lookup_group_recompute_all_on_any_miss(\n\u001b[0;32m    401\u001b[0m         cached_filename_prefix,\n\u001b[0;32m    402\u001b[0m         feat_extractor\u001b[39m.\u001b[39mget_requested_features_list(),\n\u001b[0;32m    403\u001b[0m         fn_recompute,\n\u001b[0;32m    404\u001b[0m         \u001b[39m*\u001b[39m\u001b[39m*\u001b[39mkwargs,\n\u001b[0;32m    405\u001b[0m     )\n\u001b[0;32m    406\u001b[0m \u001b[39melse\u001b[39;00m:\n\u001b[1;32m--> 407\u001b[0m     featuresdict \u001b[39m=\u001b[39m fn_recompute()\n\u001b[0;32m    408\u001b[0m \u001b[39mreturn\u001b[39;00m featuresdict\n",
      "File \u001b[1;32md:\\dokumente\\softwaredev\\masterthesis\\gim-evaluation\\src\\torch-fidelity\\torch_fidelity\\utils.py:395\u001b[0m, in \u001b[0;36mextract_featuresdict_from_input_id_cached.<locals>.fn_recompute\u001b[1;34m()\u001b[0m\n\u001b[0;32m    394\u001b[0m \u001b[39mdef\u001b[39;00m \u001b[39mfn_recompute\u001b[39m():\n\u001b[1;32m--> 395\u001b[0m     \u001b[39mreturn\u001b[39;00m extract_featuresdict_from_input_id(input_id, feat_extractor, \u001b[39m*\u001b[39m\u001b[39m*\u001b[39mkwargs)\n",
      "File \u001b[1;32md:\\dokumente\\softwaredev\\masterthesis\\gim-evaluation\\src\\torch-fidelity\\torch_fidelity\\utils.py:380\u001b[0m, in \u001b[0;36mextract_featuresdict_from_input_id\u001b[1;34m(input_id, feat_extractor, **kwargs)\u001b[0m\n\u001b[0;32m    378\u001b[0m \u001b[39mif\u001b[39;00m \u001b[39misinstance\u001b[39m(\u001b[39minput\u001b[39m, Dataset):\n\u001b[0;32m    379\u001b[0m     save_cpu_ram \u001b[39m=\u001b[39m get_kwarg(\u001b[39m'\u001b[39m\u001b[39msave_cpu_ram\u001b[39m\u001b[39m'\u001b[39m, kwargs)\n\u001b[1;32m--> 380\u001b[0m     featuresdict \u001b[39m=\u001b[39m get_featuresdict_from_dataset(\u001b[39minput\u001b[39;49m, feat_extractor, batch_size, cuda, save_cpu_ram, verbose)\n\u001b[0;32m    381\u001b[0m \u001b[39melse\u001b[39;00m:\n\u001b[0;32m    382\u001b[0m     input_desc \u001b[39m=\u001b[39m prepare_input_descriptor_from_input_id(input_id, \u001b[39m*\u001b[39m\u001b[39m*\u001b[39mkwargs)\n",
      "File \u001b[1;32md:\\dokumente\\softwaredev\\masterthesis\\gim-evaluation\\src\\torch-fidelity\\torch_fidelity\\utils.py:133\u001b[0m, in \u001b[0;36mget_featuresdict_from_dataset\u001b[1;34m(input, feat_extractor, batch_size, cuda, save_cpu_ram, verbose)\u001b[0m\n\u001b[0;32m    131\u001b[0m features \u001b[39m=\u001b[39m feat_extractor(batch)\n\u001b[0;32m    132\u001b[0m featuresdict \u001b[39m=\u001b[39m feat_extractor\u001b[39m.\u001b[39mconvert_features_tuple_to_dict(features)\n\u001b[1;32m--> 133\u001b[0m featuresdict \u001b[39m=\u001b[39m {k: [v\u001b[39m.\u001b[39mcpu()] \u001b[39mfor\u001b[39;00m k, v \u001b[39min\u001b[39;00m featuresdict\u001b[39m.\u001b[39mitems()}\n\u001b[0;32m    135\u001b[0m \u001b[39mif\u001b[39;00m out \u001b[39mis\u001b[39;00m \u001b[39mNone\u001b[39;00m:\n\u001b[0;32m    136\u001b[0m     out \u001b[39m=\u001b[39m featuresdict\n",
      "File \u001b[1;32md:\\dokumente\\softwaredev\\masterthesis\\gim-evaluation\\src\\torch-fidelity\\torch_fidelity\\utils.py:133\u001b[0m, in \u001b[0;36m<dictcomp>\u001b[1;34m(.0)\u001b[0m\n\u001b[0;32m    131\u001b[0m features \u001b[39m=\u001b[39m feat_extractor(batch)\n\u001b[0;32m    132\u001b[0m featuresdict \u001b[39m=\u001b[39m feat_extractor\u001b[39m.\u001b[39mconvert_features_tuple_to_dict(features)\n\u001b[1;32m--> 133\u001b[0m featuresdict \u001b[39m=\u001b[39m {k: [v\u001b[39m.\u001b[39;49mcpu()] \u001b[39mfor\u001b[39;00m k, v \u001b[39min\u001b[39;00m featuresdict\u001b[39m.\u001b[39mitems()}\n\u001b[0;32m    135\u001b[0m \u001b[39mif\u001b[39;00m out \u001b[39mis\u001b[39;00m \u001b[39mNone\u001b[39;00m:\n\u001b[0;32m    136\u001b[0m     out \u001b[39m=\u001b[39m featuresdict\n",
      "\u001b[1;31mKeyboardInterrupt\u001b[0m: "
     ]
    }
   ],
   "source": [
    "from framework.platform import PlatformManager\n",
    "from framework.configs import PlatformConfig, EvalConfig\n",
    "import os\n",
    "\n",
    "\n",
    "eval_cfg = EvalConfig(\n",
    "    inception_score=True,\n",
    "    fid=True,\n",
    "    kid=True,\n",
    "    prc=False,\n",
    "    fid_infinity=False,\n",
    "    is_infinity=False,\n",
    "    clean_fid=False,\n",
    "    clean_kid=False,\n",
    "    clean_fid_batch_size=32,\n",
    "    clean_kid_batch_size=32,\n",
    ")\n",
    "\n",
    "platform_cfg = PlatformConfig(\n",
    "    verbose=True,\n",
    "    cuda=True,\n",
    "    save_cpu_ram=False,\n",
    "    compare_real_to_real=True\n",
    ")\n",
    "\n",
    "platform_manager = PlatformManager(real_images_path=os.path.join(os.getcwd(), \"original_64\"),\n",
    "                                   eval_config=eval_cfg,\n",
    "                                   platform_config=platform_cfg)\n",
    "\n",
    "result_dict = platform_manager.calc_metrics()\n",
    "result_dict.print()\n",
    "result_dict.write_to_json(file=\"is_fid_infty.json\")"
   ]
  },
  {
   "cell_type": "code",
   "execution_count": 2,
   "metadata": {},
   "outputs": [
    {
     "name": "stdout",
     "output_type": "stream",
     "text": [
      "------------------------------------\n",
      "Generator Name: cifar-10\n",
      "------------------------------------\n",
      "Inception Score Mean: 11.189\n",
      "Inception Score Std: 0.115\n",
      "Frechet Inception Distance: 204.998\n",
      "Kernel Inception Distance Mean: 0.186\n",
      "Kernel Inception Distance Std: 0.003\n",
      "Precision: 0.085\n",
      "Recall: 0.001\n",
      "F1 Score: 0.002\n",
      "FID Infinity (Approx.): 225.647\n",
      "IS Infinity (Approx.): 9.475\n",
      "Clean FID: 211.253\n",
      "Clean KID: 0.195\n",
      "LS: 0.558\n",
      "------------------------------------\n",
      "Generator Name: diffusionStyleGAN2\n",
      "------------------------------------\n",
      "Inception Score Mean: 3.117\n",
      "Inception Score Std: 0.028\n",
      "Frechet Inception Distance: 11.367\n",
      "Kernel Inception Distance Mean: 0.011\n",
      "Kernel Inception Distance Std: 0.001\n",
      "Precision: 0.613\n",
      "Recall: 0.362\n",
      "F1 Score: 0.455\n",
      "FID Infinity (Approx.): 8.723\n",
      "IS Infinity (Approx.): 3.16\n",
      "Clean FID: 11.949\n",
      "Clean KID: 0.011\n",
      "LS: 0.599\n",
      "------------------------------------\n",
      "Generator Name: diffusionVAE\n",
      "------------------------------------\n",
      "Inception Score Mean: 3.032\n",
      "Inception Score Std: 0.039\n",
      "Frechet Inception Distance: 16.495\n",
      "Kernel Inception Distance Mean: 0.016\n",
      "Kernel Inception Distance Std: 0.001\n",
      "Precision: 0.792\n",
      "Recall: 0.157\n",
      "F1 Score: 0.263\n",
      "FID Infinity (Approx.): 11.675\n",
      "IS Infinity (Approx.): 2.835\n",
      "Clean FID: 19.804\n",
      "Clean KID: 0.02\n",
      "LS: 0.602\n",
      "------------------------------------\n",
      "Generator Name: guidedDiffusion_IP\n",
      "------------------------------------\n",
      "Inception Score Mean: 2.937\n",
      "Inception Score Std: 0.025\n",
      "Frechet Inception Distance: 7.617\n",
      "Kernel Inception Distance Mean: 0.009\n",
      "Kernel Inception Distance Std: 0.001\n",
      "Precision: 0.55\n",
      "Recall: 0.439\n",
      "F1 Score: 0.488\n",
      "FID Infinity (Approx.): 7.078\n",
      "IS Infinity (Approx.): 2.867\n",
      "Clean FID: 9.757\n",
      "Clean KID: 0.011\n",
      "LS: 0.628\n",
      "------------------------------------\n",
      "Generator Name: CelebA_Original\n",
      "------------------------------------\n",
      "Inception Score Mean: 3.586\n",
      "Inception Score Std: 0.02\n",
      "Frechet Inception Distance: -0.0\n",
      "Kernel Inception Distance Mean: -0.0\n",
      "Kernel Inception Distance Std: 0.0\n",
      "Precision: 0.737\n",
      "Recall: 0.739\n",
      "F1 Score: 0.738\n",
      "FID Infinity (Approx.): -0.069\n",
      "IS Infinity (Approx.): 3.434\n",
      "Clean FID: -0.0\n",
      "Clean KID: -0.0\n",
      "LS: 1.0\n"
     ]
    }
   ],
   "source": [
    "from framework.platform import ResultDict\n",
    "\n",
    "results = ResultDict({})\n",
    "results.read_from_json(\"all.json\")\n",
    "results.print(round_scores=True)"
   ]
  },
  {
   "cell_type": "code",
   "execution_count": null,
   "metadata": {},
   "outputs": [
    {
     "name": "stderr",
     "output_type": "stream",
     "text": [
      "Creating feature extractor \"vgg16\" with features ['fc2_relu']\n",
      "Extracting features from input1\n",
      "Processing samples                                                             \n",
      "Extracting features from input2\n",
      "Processing samples                                                             \n",
      "Precision: 0.6168400049209595\n",
      "Recall: 0.3585200011730194\n",
      "F-score: 0.4534725186722886\n"
     ]
    }
   ],
   "source": [
    "metrics_dict = torch_fidelity.calculate_metrics(\n",
    "    input1=platform_manager.helper.real_images_src.get_dataset(), \n",
    "    input2=platform_manager.helper.get_generator_src(\"diffusionStyleGAN2\").get_dataset(), \n",
    "    cuda=True, \n",
    "    isc=False, \n",
    "    fid=False, \n",
    "    kid=False, \n",
    "    prc=True, \n",
    "    verbose=True,\n",
    "    save_cpu_ram=False,\n",
    ")"
   ]
  },
  {
   "cell_type": "code",
   "execution_count": null,
   "metadata": {},
   "outputs": [
    {
     "name": "stdout",
     "output_type": "stream",
     "text": [
      "(50000, 64, 64, 3) size array saved into celeba64_train.npz\n"
     ]
    }
   ],
   "source": [
    "from framework.util import img_to_64\n",
    "\n",
    "img_to_64(\"D:\\Dokumente\\SoftwareDev\\MasterThesis\\GIM-evaluation\\cifar-10\\\\train\\\\train\\\\\",\n",
    "             \"D:\\Dokumente\\SoftwareDev\\MasterThesis\\GIM-evaluation\\cifar-10\\\\64res\\\\\")"
   ]
  },
  {
   "cell_type": "code",
   "execution_count": null,
   "metadata": {},
   "outputs": [
    {
     "name": "stderr",
     "output_type": "stream",
     "text": [
      "d:\\Users\\qrno9\\miniconda3\\envs\\GIM-Eval\\lib\\site-packages\\torchvision\\models\\_utils.py:208: UserWarning: The parameter 'pretrained' is deprecated since 0.13 and may be removed in the future, please use 'weights' instead.\n",
      "  warnings.warn(\n",
      "d:\\Users\\qrno9\\miniconda3\\envs\\GIM-Eval\\lib\\site-packages\\torchvision\\models\\_utils.py:223: UserWarning: Arguments other than a weight enum or `None` for 'weights' are deprecated since 0.13 and may be removed in the future. The current behavior is equivalent to passing `weights=Inception_V3_Weights.IMAGENET1K_V1`. You can also use `weights=Inception_V3_Weights.DEFAULT` to get the most up-to-date weights.\n",
      "  warnings.warn(msg)\n",
      "Downloading: \"https://download.pytorch.org/models/inception_v3_google-0cc3c7bd.pth\" to C:\\Users\\qrno9/.cache\\torch\\hub\\checkpoints\\inception_v3_google-0cc3c7bd.pth\n",
      "100%|██████████| 104M/104M [00:04<00:00, 27.2MB/s] \n",
      "100%|██████████| 1583/1583 [11:45<00:00,  2.24it/s]\n",
      "100%|██████████| 391/391 [02:52<00:00,  2.27it/s]\n"
     ]
    },
    {
     "name": "stdout",
     "output_type": "stream",
     "text": [
      "7.062873860723985\n"
     ]
    }
   ],
   "source": [
    "from third_party.FID_IS_infinity.score_infinity import calculate_FID_infinity_path, calculate_IS_infinity_path\n",
    "\n",
    "fid_infty = calculate_FID_infinity_path(real_path=platform_manager.helper.real_images_src.folder_path, \n",
    "                                        fake_path=platform_manager.get_generator_src(\"guidedDiffusion_IP\").folder_path,\n",
    "                                        batch_size=128)\n",
    "\n",
    "print(fid_infty)\n"
   ]
  },
  {
   "cell_type": "code",
   "execution_count": null,
   "metadata": {},
   "outputs": [
    {
     "name": "stderr",
     "output_type": "stream",
     "text": [
      "d:\\Users\\qrno9\\miniconda3\\envs\\GIM-Eval\\lib\\site-packages\\torchvision\\models\\_utils.py:208: UserWarning: The parameter 'pretrained' is deprecated since 0.13 and may be removed in the future, please use 'weights' instead.\n",
      "  warnings.warn(\n",
      "d:\\Users\\qrno9\\miniconda3\\envs\\GIM-Eval\\lib\\site-packages\\torchvision\\models\\_utils.py:223: UserWarning: Arguments other than a weight enum or `None` for 'weights' are deprecated since 0.13 and may be removed in the future. The current behavior is equivalent to passing `weights=Inception_V3_Weights.IMAGENET1K_V1`. You can also use `weights=Inception_V3_Weights.DEFAULT` to get the most up-to-date weights.\n",
      "  warnings.warn(msg)\n",
      "100%|██████████| 391/391 [01:11<00:00,  5.47it/s]\n"
     ]
    },
    {
     "name": "stdout",
     "output_type": "stream",
     "text": [
      "2.8650191160150813\n"
     ]
    }
   ],
   "source": [
    "is_infty = calculate_IS_infinity_path(path=platform_manager.get_generator_src(\"guidedDiffusion_IP\").folder_path,\n",
    "                                      batch_size=128)\n",
    "\n",
    "print(is_infty)"
   ]
  },
  {
   "cell_type": "code",
   "execution_count": null,
   "metadata": {},
   "outputs": [
    {
     "name": "stdout",
     "output_type": "stream",
     "text": [
      "[INFO]: Real images source found, name:CelebA_Original\n",
      "[INFO]: 4 different generator sources found. Names:\n",
      "cifar-10\n",
      "diffusionStyleGAN2\n",
      "diffusionVAE\n",
      "guidedDiffusion_IP\n",
      "\n",
      "compute KID between two folders\n",
      "Found 202599 images in the folder d:\\Dokumente\\SoftwareDev\\MasterThesis\\GIM-evaluation\\original_64\n"
     ]
    },
    {
     "name": "stderr",
     "output_type": "stream",
     "text": [
      "KID original_64 : 100%|██████████| 792/792 [14:18<00:00,  1.08s/it]\n"
     ]
    },
    {
     "name": "stdout",
     "output_type": "stream",
     "text": [
      "Found 50000 images in the folder d:\\Dokumente\\SoftwareDev\\MasterThesis\\GIM-evaluation\\generated_images\\guidedDiffusion_IP\n"
     ]
    },
    {
     "name": "stderr",
     "output_type": "stream",
     "text": [
      "KID guidedDiffusion_IP : 100%|██████████| 196/196 [03:33<00:00,  1.09s/it]\n"
     ]
    },
    {
     "name": "stdout",
     "output_type": "stream",
     "text": [
      "0.011523317377377345\n"
     ]
    }
   ],
   "source": [
    "from cleanfid import fid as clean_fid\n",
    "\n",
    "from framework.platform import PlatformManager\n",
    "from framework.configs import PlatformConfig, EvalConfig\n",
    "import os\n",
    "\n",
    "\n",
    "eval_cfg = EvalConfig(\n",
    "    inception_score=False,\n",
    "    fid=False,\n",
    "    kid=False,\n",
    "    prc=False,\n",
    "    fid_infinity=True,\n",
    "    is_infinity=True,\n",
    ")\n",
    "\n",
    "platform_cfg = PlatformConfig(\n",
    "    verbose=True,\n",
    "    cuda=True,\n",
    "    save_cpu_ram=False,\n",
    "    compare_real_to_real=True\n",
    ")\n",
    "\n",
    "platform_manager = PlatformManager(real_images_path=os.path.join(os.getcwd(), \"original_64\"),\n",
    "                                   eval_config=eval_cfg,\n",
    "                                   platform_config=platform_cfg)\n",
    "\n",
    "print()\n",
    "\n",
    "# fid = clean_fid.compute_fid(fdir1=platform_manager.helper.real_images_src.folder_path,\n",
    "#                             fdir2=platform_manager.get_generator_src(\"guidedDiffusion_IP\").folder_path,\n",
    "#                             num_workers=0,\n",
    "#                             batch_size=256)\n",
    "\n",
    "kid = clean_fid.compute_kid(fdir1=platform_manager.helper.real_images_src.folder_path,\n",
    "                            fdir2=platform_manager.get_generator_src(\"guidedDiffusion_IP\").folder_path,\n",
    "                            num_workers=0,\n",
    "                            batch_size=256)\n",
    "\n",
    "print(kid)"
   ]
  },
  {
   "cell_type": "code",
   "execution_count": 1,
   "metadata": {},
   "outputs": [
    {
     "name": "stdout",
     "output_type": "stream",
     "text": [
      "[INFO]: Real images source found, name:CelebA64 (Original)\n",
      "[INFO]: 4 different generator sources found. Names:\n",
      "cifar-10\n",
      "diffusionStyleGAN2\n",
      "diffusionVAE\n",
      "guidedDiffusion_IP\n",
      "[INFO]: Comparison real-to-real (True)\n",
      "[START]: Calculating Metrics for cifar-10\n",
      "[INFO]: Start Calculation Likeliness Scores (LS), Source = cifar-10\n",
      "[INFO]: LS finished\n",
      "[FINISHED]: Calculating Metrics for cifar-10\n",
      "{'LS': 0.5572416015235531}\n",
      "[START]: Calculating Metrics for diffusionStyleGAN2\n",
      "[INFO]: Start Calculation Likeliness Scores (LS), Source = diffusionStyleGAN2\n",
      "[INFO]: LS finished\n",
      "[FINISHED]: Calculating Metrics for diffusionStyleGAN2\n",
      "{'LS': 0.5932701201504269}\n",
      "[START]: Calculating Metrics for diffusionVAE\n",
      "[INFO]: Start Calculation Likeliness Scores (LS), Source = diffusionVAE\n",
      "[INFO]: LS finished\n",
      "[FINISHED]: Calculating Metrics for diffusionVAE\n",
      "{'LS': 0.6044717780069088}\n",
      "[START]: Calculating Metrics for guidedDiffusion_IP\n",
      "[INFO]: Start Calculation Likeliness Scores (LS), Source = guidedDiffusion_IP\n",
      "[INFO]: LS finished\n",
      "[FINISHED]: Calculating Metrics for guidedDiffusion_IP\n",
      "{'LS': 0.6262748143213153}\n",
      "[START]: Calculating Metrics for CelebA64 (Original)\n",
      "[INFO]: Start Calculation Likeliness Scores (LS), Source = CelebA64 (Original)\n",
      "[INFO]: LS finished\n",
      "[FINISHED]: Calculating Metrics for CelebA64 (Original)\n",
      "{'LS': 1.0}\n",
      "------------------------------------\n",
      "Generator Name: cifar-10\n",
      "------------------------------------\n",
      "LS: 0.5572416015235531\n",
      "------------------------------------\n",
      "Generator Name: diffusionStyleGAN2\n",
      "------------------------------------\n",
      "LS: 0.5932701201504269\n",
      "------------------------------------\n",
      "Generator Name: diffusionVAE\n",
      "------------------------------------\n",
      "LS: 0.6044717780069088\n",
      "------------------------------------\n",
      "Generator Name: guidedDiffusion_IP\n",
      "------------------------------------\n",
      "LS: 0.6262748143213153\n",
      "------------------------------------\n",
      "Generator Name: CelebA64 (Original)\n",
      "------------------------------------\n",
      "LS: 1.0\n"
     ]
    }
   ],
   "source": [
    "from framework.platform import PlatformManager\n",
    "from framework.configs import PlatformConfig, EvalConfig\n",
    "import os\n",
    "\n",
    "\n",
    "\n",
    "eval_cfg = EvalConfig(\n",
    "    ls=True,\n",
    "    ls_n_folds=0,\n",
    "    ls_n_samples=10000,\n",
    "    ls_plot_distances=False,\n",
    ")\n",
    "\n",
    "platform_cfg = PlatformConfig(\n",
    "    verbose=True,\n",
    "    cuda=True,\n",
    "    save_cpu_ram=False,\n",
    "    compare_real_to_real=True,\n",
    "    num_worker=16,\n",
    ")\n",
    "\n",
    "platform_manager = PlatformManager(real_images_path=os.path.join(os.getcwd(), \"original_64\"),\n",
    "                                   eval_config=eval_cfg,\n",
    "                                   platform_config=platform_cfg)\n",
    "\n",
    "result_dict = platform_manager.calc_metrics()\n",
    "result_dict.print()\n",
    "result_dict.write_to_json(file=\"ls.json\")"
   ]
  }
 ],
 "metadata": {
  "kernelspec": {
   "display_name": "GIM-Eval",
   "language": "python",
   "name": "python3"
  },
  "language_info": {
   "codemirror_mode": {
    "name": "ipython",
    "version": 3
   },
   "file_extension": ".py",
   "mimetype": "text/x-python",
   "name": "python",
   "nbconvert_exporter": "python",
   "pygments_lexer": "ipython3",
   "version": "3.10.12"
  },
  "orig_nbformat": 4
 },
 "nbformat": 4,
 "nbformat_minor": 2
}
