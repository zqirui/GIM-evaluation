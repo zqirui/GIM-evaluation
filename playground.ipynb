{
 "cells": [
  {
   "cell_type": "code",
   "execution_count": 3,
   "metadata": {},
   "outputs": [
    {
     "name": "stdout",
     "output_type": "stream",
     "text": [
      "[INFO]: Real images source found, name:CelebA_Original\n",
      "[INFO]: 4 different generator sources found. Names:\n",
      "cifar-10\n",
      "diffusionStyleGAN2\n",
      "diffusionVAE\n",
      "guidedDiffusion_IP\n",
      "[INFO]: Comparison real-to-real (True)\n",
      "[START]: Calculating Metrics for cifar-10\n",
      "[INFO]: Start Calculation FID infinity, Source = cifar-10\n"
     ]
    },
    {
     "name": "stderr",
     "output_type": "stream",
     "text": [
      " 96%|█████████▌| 1519/1583 [10:22<00:31,  2.03it/s]"
     ]
    }
   ],
   "source": [
    "from framework.platform import PlatformManager\n",
    "from framework.configs import PlatformConfig, EvalConfig\n",
    "import os\n",
    "\n",
    "\n",
    "eval_cfg = EvalConfig(\n",
    "    inception_score=False,\n",
    "    fid=False,\n",
    "    kid=False,\n",
    "    prc=False,\n",
    "    fid_infinity=True,\n",
    "    is_infinity=True,\n",
    "    clean_fid=False,\n",
    "    clean_kid=False,\n",
    "    clean_fid_batch_size=32,\n",
    "    clean_kid_batch_size=32,\n",
    ")\n",
    "\n",
    "platform_cfg = PlatformConfig(\n",
    "    verbose=True,\n",
    "    cuda=True,\n",
    "    save_cpu_ram=False,\n",
    "    compare_real_to_real=True\n",
    ")\n",
    "\n",
    "platform_manager = PlatformManager(real_images_path=os.path.join(os.getcwd(), \"original_64\"),\n",
    "                                   eval_config=eval_cfg,\n",
    "                                   platform_config=platform_cfg)\n",
    "\n",
    "result_dict = platform_manager.calc_metrics()\n",
    "result_dict.print()\n",
    "result_dict.write_to_json(file=\"is_fid_infty.json\")"
   ]
  },
  {
   "cell_type": "code",
   "execution_count": 2,
   "metadata": {},
   "outputs": [
    {
     "name": "stdout",
     "output_type": "stream",
     "text": [
      "------------------------------------\n",
      "Generator Name: cifar-10\n",
      "------------------------------------\n",
      "Precision: 0.08479999750852585\n",
      "Recall: 0.001120000029914081\n",
      "F1 Score: 0.002210800802310811\n",
      "Clean FID: 211.25326924640171\n",
      "Clean KID: 0.19506203906156167\n",
      "------------------------------------\n",
      "Generator Name: diffusionStyleGAN2\n",
      "------------------------------------\n",
      "Precision: 0.6126199960708618\n",
      "Recall: 0.3624599874019623\n",
      "F1 Score: 0.4554503011479845\n",
      "Clean FID: 11.948886218760606\n",
      "Clean KID: 0.011231031383883882\n",
      "------------------------------------\n",
      "Generator Name: diffusionVAE\n",
      "------------------------------------\n",
      "Precision: 0.7916600108146667\n",
      "Recall: 0.15737999975681305\n",
      "F1 Score: 0.26256311835465423\n",
      "Clean FID: 19.803939224633154\n",
      "Clean KID: 0.019741568428428433\n",
      "------------------------------------\n",
      "Generator Name: guidedDiffusion_IP\n",
      "------------------------------------\n",
      "Precision: 0.5495200157165527\n",
      "Recall: 0.438620001077652\n",
      "F1 Score: 0.4878467945620787\n",
      "Clean FID: 9.757112890742377\n",
      "Clean KID: 0.01135361106606612\n",
      "------------------------------------\n",
      "Generator Name: CelebA_Original\n",
      "------------------------------------\n",
      "Precision: 0.7371000051498413\n",
      "Recall: 0.7388399839401245\n",
      "F1 Score: 0.7379689689185303\n",
      "Clean FID: -1.6484591469634324e-12\n",
      "Clean KID: -8.617710210164659e-06\n"
     ]
    }
   ],
   "source": [
    "from framework.platform import ResultDict\n",
    "\n",
    "results = ResultDict({})\n",
    "results.read_from_json(\"prc.json\")\n",
    "results.print()"
   ]
  },
  {
   "cell_type": "code",
   "execution_count": 4,
   "metadata": {},
   "outputs": [
    {
     "name": "stderr",
     "output_type": "stream",
     "text": [
      "Creating feature extractor \"vgg16\" with features ['fc2_relu']\n",
      "Extracting features from input1\n",
      "Processing samples                                                             \n",
      "Extracting features from input2\n",
      "Processing samples                                                             \n",
      "Precision: 0.6168400049209595\n",
      "Recall: 0.3585200011730194\n",
      "F-score: 0.4534725186722886\n"
     ]
    }
   ],
   "source": [
    "metrics_dict = torch_fidelity.calculate_metrics(\n",
    "    input1=platform_manager.helper.real_images_src.get_dataset(), \n",
    "    input2=platform_manager.helper.get_generator_src(\"diffusionStyleGAN2\").get_dataset(), \n",
    "    cuda=True, \n",
    "    isc=False, \n",
    "    fid=False, \n",
    "    kid=False, \n",
    "    prc=True, \n",
    "    verbose=True,\n",
    "    save_cpu_ram=False,\n",
    ")"
   ]
  },
  {
   "cell_type": "code",
   "execution_count": 3,
   "metadata": {},
   "outputs": [
    {
     "name": "stdout",
     "output_type": "stream",
     "text": [
      "(50000, 64, 64, 3) size array saved into celeba64_train.npz\n"
     ]
    }
   ],
   "source": [
    "from framework.util import img_to_64\n",
    "\n",
    "img_to_64(\"D:\\Dokumente\\SoftwareDev\\MasterThesis\\GIM-evaluation\\cifar-10\\\\train\\\\train\\\\\",\n",
    "             \"D:\\Dokumente\\SoftwareDev\\MasterThesis\\GIM-evaluation\\cifar-10\\\\64res\\\\\")"
   ]
  },
  {
   "cell_type": "code",
   "execution_count": 2,
   "metadata": {},
   "outputs": [
    {
     "name": "stderr",
     "output_type": "stream",
     "text": [
      "d:\\Users\\qrno9\\miniconda3\\envs\\GIM-Eval\\lib\\site-packages\\torchvision\\models\\_utils.py:208: UserWarning: The parameter 'pretrained' is deprecated since 0.13 and may be removed in the future, please use 'weights' instead.\n",
      "  warnings.warn(\n",
      "d:\\Users\\qrno9\\miniconda3\\envs\\GIM-Eval\\lib\\site-packages\\torchvision\\models\\_utils.py:223: UserWarning: Arguments other than a weight enum or `None` for 'weights' are deprecated since 0.13 and may be removed in the future. The current behavior is equivalent to passing `weights=Inception_V3_Weights.IMAGENET1K_V1`. You can also use `weights=Inception_V3_Weights.DEFAULT` to get the most up-to-date weights.\n",
      "  warnings.warn(msg)\n",
      "Downloading: \"https://download.pytorch.org/models/inception_v3_google-0cc3c7bd.pth\" to C:\\Users\\qrno9/.cache\\torch\\hub\\checkpoints\\inception_v3_google-0cc3c7bd.pth\n",
      "100%|██████████| 104M/104M [00:04<00:00, 27.2MB/s] \n",
      "100%|██████████| 1583/1583 [11:45<00:00,  2.24it/s]\n",
      "100%|██████████| 391/391 [02:52<00:00,  2.27it/s]\n"
     ]
    },
    {
     "name": "stdout",
     "output_type": "stream",
     "text": [
      "7.062873860723985\n"
     ]
    }
   ],
   "source": [
    "from third_party.FID_IS_infinity.score_infinity import calculate_FID_infinity_path, calculate_IS_infinity_path\n",
    "\n",
    "fid_infty = calculate_FID_infinity_path(real_path=platform_manager.helper.real_images_src.folder_path, \n",
    "                                        fake_path=platform_manager.get_generator_src(\"guidedDiffusion_IP\").folder_path,\n",
    "                                        batch_size=128)\n",
    "\n",
    "print(fid_infty)\n"
   ]
  },
  {
   "cell_type": "code",
   "execution_count": 5,
   "metadata": {},
   "outputs": [
    {
     "name": "stderr",
     "output_type": "stream",
     "text": [
      "d:\\Users\\qrno9\\miniconda3\\envs\\GIM-Eval\\lib\\site-packages\\torchvision\\models\\_utils.py:208: UserWarning: The parameter 'pretrained' is deprecated since 0.13 and may be removed in the future, please use 'weights' instead.\n",
      "  warnings.warn(\n",
      "d:\\Users\\qrno9\\miniconda3\\envs\\GIM-Eval\\lib\\site-packages\\torchvision\\models\\_utils.py:223: UserWarning: Arguments other than a weight enum or `None` for 'weights' are deprecated since 0.13 and may be removed in the future. The current behavior is equivalent to passing `weights=Inception_V3_Weights.IMAGENET1K_V1`. You can also use `weights=Inception_V3_Weights.DEFAULT` to get the most up-to-date weights.\n",
      "  warnings.warn(msg)\n",
      "100%|██████████| 391/391 [01:11<00:00,  5.47it/s]\n"
     ]
    },
    {
     "name": "stdout",
     "output_type": "stream",
     "text": [
      "2.8650191160150813\n"
     ]
    }
   ],
   "source": [
    "is_infty = calculate_IS_infinity_path(path=platform_manager.get_generator_src(\"guidedDiffusion_IP\").folder_path,\n",
    "                                      batch_size=128)\n",
    "\n",
    "print(is_infty)"
   ]
  },
  {
   "cell_type": "code",
   "execution_count": 4,
   "metadata": {},
   "outputs": [
    {
     "name": "stdout",
     "output_type": "stream",
     "text": [
      "[INFO]: Real images source found, name:CelebA_Original\n",
      "[INFO]: 4 different generator sources found. Names:\n",
      "cifar-10\n",
      "diffusionStyleGAN2\n",
      "diffusionVAE\n",
      "guidedDiffusion_IP\n",
      "\n",
      "compute KID between two folders\n",
      "Found 202599 images in the folder d:\\Dokumente\\SoftwareDev\\MasterThesis\\GIM-evaluation\\original_64\n"
     ]
    },
    {
     "name": "stderr",
     "output_type": "stream",
     "text": [
      "KID original_64 : 100%|██████████| 792/792 [14:18<00:00,  1.08s/it]\n"
     ]
    },
    {
     "name": "stdout",
     "output_type": "stream",
     "text": [
      "Found 50000 images in the folder d:\\Dokumente\\SoftwareDev\\MasterThesis\\GIM-evaluation\\generated_images\\guidedDiffusion_IP\n"
     ]
    },
    {
     "name": "stderr",
     "output_type": "stream",
     "text": [
      "KID guidedDiffusion_IP : 100%|██████████| 196/196 [03:33<00:00,  1.09s/it]\n"
     ]
    },
    {
     "name": "stdout",
     "output_type": "stream",
     "text": [
      "0.011523317377377345\n"
     ]
    }
   ],
   "source": [
    "from cleanfid import fid as clean_fid\n",
    "\n",
    "from framework.platform import PlatformManager\n",
    "from framework.configs import PlatformConfig, EvalConfig\n",
    "import os\n",
    "\n",
    "\n",
    "eval_cfg = EvalConfig(\n",
    "    inception_score=False,\n",
    "    fid=False,\n",
    "    kid=False,\n",
    "    prc=False,\n",
    "    fid_infinity=True,\n",
    "    is_infinity=True,\n",
    ")\n",
    "\n",
    "platform_cfg = PlatformConfig(\n",
    "    verbose=True,\n",
    "    cuda=True,\n",
    "    save_cpu_ram=False,\n",
    "    compare_real_to_real=True\n",
    ")\n",
    "\n",
    "platform_manager = PlatformManager(real_images_path=os.path.join(os.getcwd(), \"original_64\"),\n",
    "                                   eval_config=eval_cfg,\n",
    "                                   platform_config=platform_cfg)\n",
    "\n",
    "print()\n",
    "\n",
    "# fid = clean_fid.compute_fid(fdir1=platform_manager.helper.real_images_src.folder_path,\n",
    "#                             fdir2=platform_manager.get_generator_src(\"guidedDiffusion_IP\").folder_path,\n",
    "#                             num_workers=0,\n",
    "#                             batch_size=256)\n",
    "\n",
    "kid = clean_fid.compute_kid(fdir1=platform_manager.helper.real_images_src.folder_path,\n",
    "                            fdir2=platform_manager.get_generator_src(\"guidedDiffusion_IP\").folder_path,\n",
    "                            num_workers=0,\n",
    "                            batch_size=256)\n",
    "\n",
    "print(kid)"
   ]
  }
 ],
 "metadata": {
  "kernelspec": {
   "display_name": "GIM-Eval",
   "language": "python",
   "name": "python3"
  },
  "language_info": {
   "codemirror_mode": {
    "name": "ipython",
    "version": 3
   },
   "file_extension": ".py",
   "mimetype": "text/x-python",
   "name": "python",
   "nbconvert_exporter": "python",
   "pygments_lexer": "ipython3",
   "version": "3.10.12"
  },
  "orig_nbformat": 4
 },
 "nbformat": 4,
 "nbformat_minor": 2
}
