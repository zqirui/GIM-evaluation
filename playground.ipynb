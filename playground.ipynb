{
 "cells": [
  {
   "cell_type": "code",
   "execution_count": 2,
   "metadata": {},
   "outputs": [
    {
     "name": "stdout",
     "output_type": "stream",
     "text": [
      "Real images found, name:CelebA_Original\n",
      "3 different generator sources found. Names:\n",
      "diffusionStyleGAN2\n",
      "diffusionVAE\n",
      "guidedDiffusion_IP\n",
      "[START]: Calculating Metrics for diffusionStyleGAN2\n"
     ]
    },
    {
     "name": "stderr",
     "output_type": "stream",
     "text": [
      "Creating feature extractor \"inception-v3-compat\" with features ['logits_unbiased', '2048']\n",
      "Extracting features from input1\n",
      "Processing samples                                                               \n",
      "Extracting features from input2\n",
      "Processing samples                                                             \n",
      "Inception Score: 3.5856323974726556 ± 0.020385455507128\n",
      "Frechet Inception Distance: 11.367448876552714\n",
      "Kernel Inception Distance: 0.01063310997747744 ± 0.0006198271780372778          \n",
      "Creating feature extractor \"inception-v3-compat\" with features ['logits_unbiased', '2048']\n",
      "Extracting features from input1\n"
     ]
    },
    {
     "name": "stdout",
     "output_type": "stream",
     "text": [
      "[FINISHED]: Calculating Metrics for diffusionStyleGAN2\n",
      "{'Inception Score Mean': 3.5856323974726556, 'Inception Score Std': 0.020385455507128, 'Frechet Inception Distance': 11.367448876552714, 'Kernel Inception Distance Mean': 0.01063310997747744, 'Kernel Inception Distance Std': 0.01063310997747744}\n",
      "[START]: Calculating Metrics for diffusionVAE\n"
     ]
    },
    {
     "name": "stderr",
     "output_type": "stream",
     "text": [
      "Processing samples                                                               \n",
      "Extracting features from input2\n",
      "Processing samples                                                             \n",
      "Inception Score: 3.5856323974726556 ± 0.020385455507128\n",
      "Frechet Inception Distance: 16.49486166225401\n",
      "Kernel Inception Distance: 0.016086738425925923 ± 0.0007564590874885127         \n",
      "Creating feature extractor \"inception-v3-compat\" with features ['logits_unbiased', '2048']\n"
     ]
    },
    {
     "name": "stdout",
     "output_type": "stream",
     "text": [
      "[FINISHED]: Calculating Metrics for diffusionVAE\n",
      "{'Inception Score Mean': 3.5856323974726556, 'Inception Score Std': 0.020385455507128, 'Frechet Inception Distance': 16.49486166225401, 'Kernel Inception Distance Mean': 0.016086738425925923, 'Kernel Inception Distance Std': 0.016086738425925923}\n",
      "[START]: Calculating Metrics for guidedDiffusion_IP\n"
     ]
    },
    {
     "name": "stderr",
     "output_type": "stream",
     "text": [
      "Extracting features from input1\n",
      "Processing samples                                                               \n",
      "Extracting features from input2\n",
      "Processing samples                                                             \n",
      "Inception Score: 3.5856323974726556 ± 0.020385455507128\n",
      "Frechet Inception Distance: 7.617265591198162\n",
      "                                                                                "
     ]
    },
    {
     "name": "stdout",
     "output_type": "stream",
     "text": [
      "[FINISHED]: Calculating Metrics for guidedDiffusion_IP\n",
      "{'Inception Score Mean': 3.5856323974726556, 'Inception Score Std': 0.020385455507128, 'Frechet Inception Distance': 7.617265591198162, 'Kernel Inception Distance Mean': 0.008803351719219222, 'Kernel Inception Distance Std': 0.008803351719219222}\n"
     ]
    },
    {
     "name": "stderr",
     "output_type": "stream",
     "text": [
      "Kernel Inception Distance: 0.008803351719219222 ± 0.0006384332745241464\n"
     ]
    }
   ],
   "source": [
    "from framework.Platform import PlatformManager\n",
    "from framework.Configs import PlatformConfig, EvalConfig\n",
    "import os\n",
    "\n",
    "\n",
    "eval_cfg = EvalConfig(\n",
    "    inception_score=True,\n",
    "    fid=True,\n",
    "    kid=True\n",
    ")\n",
    "\n",
    "platform_cfg = PlatformConfig(\n",
    "    verbose=True,\n",
    "    cuda=True\n",
    ")\n",
    "\n",
    "platform_manager = PlatformManager(real_images_path=os.path.join(os.getcwd(), \"original_64\"),\n",
    "                                   eval_config=eval_cfg,\n",
    "                                   platform_config=platform_cfg)\n",
    "\n",
    "platform_manager.calc_metrics()\n",
    "\n"
   ]
  },
  {
   "cell_type": "code",
   "execution_count": 2,
   "metadata": {},
   "outputs": [
    {
     "name": "stdout",
     "output_type": "stream",
     "text": [
      "True\n"
     ]
    },
    {
     "name": "stderr",
     "output_type": "stream",
     "text": [
      "Creating feature extractor \"inception-v3-compat\" with features ['logits_unbiased', '2048']\n",
      "Extracting features from input1\n",
      "Processing samples                                                               \n",
      "Extracting features from input2\n",
      "Processing samples                                                             \n",
      "Inception Score: 3.5856323974726556 ± 0.020385455507128\n",
      "Frechet Inception Distance: 7.617265591198162\n",
      "Kernel Inception Distance: 0.008803351719219222 ± 0.0006384332745241464         \n",
      "Creating feature extractor \"vgg16\" with features ['fc2_relu']\n",
      "Downloading: \"https://download.pytorch.org/models/vgg16-397923af.pth\" to C:\\Users\\qrno9/.cache\\torch\\hub\\checkpoints\\vgg16-397923af.pth\n",
      "100%|██████████| 528M/528M [00:21<00:00, 25.6MB/s] \n",
      "Extracting features from input1\n",
      "Processing samples                                                               \n",
      "Extracting features from input2\n",
      "Processing samples                                                             \n"
     ]
    },
    {
     "ename": "RuntimeError",
     "evalue": "[enforce fail at C:\\cb\\pytorch_1000000000000\\work\\c10\\core\\impl\\alloc_cpu.cpp:72] data. DefaultCPUAllocator: not enough memory: you tried to allocate 8103960000 bytes.",
     "output_type": "error",
     "traceback": [
      "\u001b[1;31m---------------------------------------------------------------------------\u001b[0m",
      "\u001b[1;31mRuntimeError\u001b[0m                              Traceback (most recent call last)",
      "Cell \u001b[1;32mIn[2], line 6\u001b[0m\n\u001b[0;32m      2\u001b[0m \u001b[39mimport\u001b[39;00m \u001b[39mtorch\u001b[39;00m\n\u001b[0;32m      4\u001b[0m \u001b[39mprint\u001b[39m(torch\u001b[39m.\u001b[39mcuda\u001b[39m.\u001b[39mis_available())\n\u001b[1;32m----> 6\u001b[0m metrics_dict \u001b[39m=\u001b[39m torch_fidelity\u001b[39m.\u001b[39;49mcalculate_metrics(\n\u001b[0;32m      7\u001b[0m     input1\u001b[39m=\u001b[39;49mplatform_manager\u001b[39m.\u001b[39;49mhelper\u001b[39m.\u001b[39;49mreal_images_src\u001b[39m.\u001b[39;49mget_dataset(), \n\u001b[0;32m      8\u001b[0m     input2\u001b[39m=\u001b[39;49mplatform_manager\u001b[39m.\u001b[39;49mhelper\u001b[39m.\u001b[39;49mget_generator_src(\u001b[39m\"\u001b[39;49m\u001b[39mguidedDiffusion_IP\u001b[39;49m\u001b[39m\"\u001b[39;49m)\u001b[39m.\u001b[39;49mget_dataset(), \n\u001b[0;32m      9\u001b[0m     cuda\u001b[39m=\u001b[39;49m\u001b[39mTrue\u001b[39;49;00m, \n\u001b[0;32m     10\u001b[0m     isc\u001b[39m=\u001b[39;49m\u001b[39mTrue\u001b[39;49;00m, \n\u001b[0;32m     11\u001b[0m     fid\u001b[39m=\u001b[39;49m\u001b[39mTrue\u001b[39;49;00m, \n\u001b[0;32m     12\u001b[0m     kid\u001b[39m=\u001b[39;49m\u001b[39mTrue\u001b[39;49;00m, \n\u001b[0;32m     13\u001b[0m     prc\u001b[39m=\u001b[39;49m\u001b[39mTrue\u001b[39;49;00m, \n\u001b[0;32m     14\u001b[0m     verbose\u001b[39m=\u001b[39;49m\u001b[39mTrue\u001b[39;49;00m,\n\u001b[0;32m     15\u001b[0m )\n",
      "File \u001b[1;32md:\\dokumente\\softwaredev\\masterthesis\\gim-evaluation\\src\\torch-fidelity\\torch_fidelity\\metrics.py:333\u001b[0m, in \u001b[0;36mcalculate_metrics\u001b[1;34m(**kwargs)\u001b[0m\n\u001b[0;32m    331\u001b[0m kwargs_subset[\u001b[39m'\u001b[39m\u001b[39mkid\u001b[39m\u001b[39m'\u001b[39m] \u001b[39m=\u001b[39m \u001b[39mFalse\u001b[39;00m\n\u001b[0;32m    332\u001b[0m kwargs_subset[\u001b[39m'\u001b[39m\u001b[39mppl\u001b[39m\u001b[39m'\u001b[39m] \u001b[39m=\u001b[39m \u001b[39mFalse\u001b[39;00m\n\u001b[1;32m--> 333\u001b[0m out\u001b[39m.\u001b[39mupdate(calculate_metrics_one_feature_extractor(\u001b[39m*\u001b[39m\u001b[39m*\u001b[39mkwargs_subset))\n\u001b[0;32m    335\u001b[0m \u001b[39mreturn\u001b[39;00m out\n",
      "File \u001b[1;32md:\\dokumente\\softwaredev\\masterthesis\\gim-evaluation\\src\\torch-fidelity\\torch_fidelity\\metrics.py:94\u001b[0m, in \u001b[0;36mcalculate_metrics_one_feature_extractor\u001b[1;34m(**kwargs)\u001b[0m\n\u001b[0;32m     91\u001b[0m         metrics\u001b[39m.\u001b[39mupdate(metric_kid)\n\u001b[0;32m     93\u001b[0m     \u001b[39mif\u001b[39;00m have_prc:\n\u001b[1;32m---> 94\u001b[0m         metric_prc \u001b[39m=\u001b[39m prc_featuresdict_to_metric(featuresdict_1, featuresdict_2, feature_layer_prc, \u001b[39m*\u001b[39m\u001b[39m*\u001b[39mkwargs)\n\u001b[0;32m     95\u001b[0m         metrics\u001b[39m.\u001b[39mupdate(metric_prc)\n\u001b[0;32m     97\u001b[0m \u001b[39mif\u001b[39;00m have_ppl:\n",
      "File \u001b[1;32md:\\dokumente\\softwaredev\\masterthesis\\gim-evaluation\\src\\torch-fidelity\\torch_fidelity\\metric_prc.py:96\u001b[0m, in \u001b[0;36mprc_featuresdict_to_metric\u001b[1;34m(featuresdict_1, featuresdict_2, feat_layer_name, **kwargs)\u001b[0m\n\u001b[0;32m     94\u001b[0m features_1 \u001b[39m=\u001b[39m featuresdict_1[feat_layer_name]\n\u001b[0;32m     95\u001b[0m features_2 \u001b[39m=\u001b[39m featuresdict_2[feat_layer_name]\n\u001b[1;32m---> 96\u001b[0m metric \u001b[39m=\u001b[39m prc_features_to_metric(features_1, features_2, \u001b[39m*\u001b[39m\u001b[39m*\u001b[39mkwargs)\n\u001b[0;32m     97\u001b[0m \u001b[39mreturn\u001b[39;00m metric\n",
      "File \u001b[1;32md:\\dokumente\\softwaredev\\masterthesis\\gim-evaluation\\src\\torch-fidelity\\torch_fidelity\\metric_prc.py:77\u001b[0m, in \u001b[0;36mprc_features_to_metric\u001b[1;34m(features_1, features_2, **kwargs)\u001b[0m\n\u001b[0;32m     74\u001b[0m verbose \u001b[39m=\u001b[39m get_kwarg(\u001b[39m'\u001b[39m\u001b[39mverbose\u001b[39m\u001b[39m'\u001b[39m, kwargs)\n\u001b[0;32m     76\u001b[0m calculate_precision_recall_fn \u001b[39m=\u001b[39m calculate_precision_recall_part \u001b[39mif\u001b[39;00m save_cpu_ram \u001b[39melse\u001b[39;00m calculate_precision_recall_full\n\u001b[1;32m---> 77\u001b[0m precision, recall \u001b[39m=\u001b[39m calculate_precision_recall_fn(features_1, features_2, neighborhood, batch_size)\n\u001b[0;32m     78\u001b[0m f_score \u001b[39m=\u001b[39m \u001b[39m2\u001b[39m \u001b[39m*\u001b[39m precision \u001b[39m*\u001b[39m recall \u001b[39m/\u001b[39m \u001b[39mmax\u001b[39m(\u001b[39m1e-5\u001b[39m, precision \u001b[39m+\u001b[39m recall)\n\u001b[0;32m     80\u001b[0m out \u001b[39m=\u001b[39m {\n\u001b[0;32m     81\u001b[0m     KEY_METRIC_PRECISION: precision,\n\u001b[0;32m     82\u001b[0m     KEY_METRIC_RECALL: recall,\n\u001b[0;32m     83\u001b[0m     KEY_METRIC_F_SCORE: f_score\n\u001b[0;32m     84\u001b[0m }\n",
      "File \u001b[1;32md:\\dokumente\\softwaredev\\masterthesis\\gim-evaluation\\src\\torch-fidelity\\torch_fidelity\\metric_prc.py:54\u001b[0m, in \u001b[0;36mcalculate_precision_recall_full\u001b[1;34m(features_1, features_2, neighborhood, batch_size)\u001b[0m\n\u001b[0;32m     53\u001b[0m \u001b[39mdef\u001b[39;00m \u001b[39mcalculate_precision_recall_full\u001b[39m(features_1, features_2, neighborhood\u001b[39m=\u001b[39m\u001b[39m3\u001b[39m, batch_size\u001b[39m=\u001b[39m\u001b[39m10000\u001b[39m):\n\u001b[1;32m---> 54\u001b[0m     dist_nn_1 \u001b[39m=\u001b[39m calc_cdist_full(features_1, features_1, batch_size)\u001b[39m.\u001b[39mkthvalue(neighborhood \u001b[39m+\u001b[39m \u001b[39m1\u001b[39m)\u001b[39m.\u001b[39mvalues\n\u001b[0;32m     55\u001b[0m     dist_nn_2 \u001b[39m=\u001b[39m calc_cdist_full(features_2, features_2, batch_size)\u001b[39m.\u001b[39mkthvalue(neighborhood \u001b[39m+\u001b[39m \u001b[39m1\u001b[39m)\u001b[39m.\u001b[39mvalues\n\u001b[0;32m     56\u001b[0m     dist_2_1 \u001b[39m=\u001b[39m calc_cdist_full(features_2, features_1, batch_size)\n",
      "File \u001b[1;32md:\\dokumente\\softwaredev\\masterthesis\\gim-evaluation\\src\\torch-fidelity\\torch_fidelity\\metric_prc.py:49\u001b[0m, in \u001b[0;36mcalc_cdist_full\u001b[1;34m(features_1, features_2, batch_size)\u001b[0m\n\u001b[0;32m     47\u001b[0m     \u001b[39mfor\u001b[39;00m feat2_batch \u001b[39min\u001b[39;00m features_2\u001b[39m.\u001b[39msplit(batch_size):\n\u001b[0;32m     48\u001b[0m         dists_batch\u001b[39m.\u001b[39mappend(torch\u001b[39m.\u001b[39mcdist(feat1_batch, feat2_batch)\u001b[39m.\u001b[39mcpu())\n\u001b[1;32m---> 49\u001b[0m     dists\u001b[39m.\u001b[39mappend(torch\u001b[39m.\u001b[39;49mcat(dists_batch, dim\u001b[39m=\u001b[39;49m\u001b[39m1\u001b[39;49m))\n\u001b[0;32m     50\u001b[0m \u001b[39mreturn\u001b[39;00m torch\u001b[39m.\u001b[39mcat(dists, dim\u001b[39m=\u001b[39m\u001b[39m0\u001b[39m)\n",
      "\u001b[1;31mRuntimeError\u001b[0m: [enforce fail at C:\\cb\\pytorch_1000000000000\\work\\c10\\core\\impl\\alloc_cpu.cpp:72] data. DefaultCPUAllocator: not enough memory: you tried to allocate 8103960000 bytes."
     ]
    }
   ],
   "source": [
    "import torch_fidelity\n",
    "import torch\n",
    "\n",
    "print(torch.cuda.is_available())\n",
    "\n",
    "metrics_dict = torch_fidelity.calculate_metrics(\n",
    "    input1=platform_manager.helper.real_images_src.get_dataset(), \n",
    "    input2=platform_manager.helper.get_generator_src(\"guidedDiffusion_IP\").get_dataset(), \n",
    "    cuda=True, \n",
    "    isc=True, \n",
    "    fid=True, \n",
    "    kid=True, \n",
    "    prc=True, \n",
    "    verbose=True,\n",
    "    save_cpu_ram=True,\n",
    ")"
   ]
  },
  {
   "cell_type": "code",
   "execution_count": 3,
   "metadata": {},
   "outputs": [
    {
     "data": {
      "text/plain": [
       "{'inception_score_mean': 3.5856323974726556,\n",
       " 'inception_score_std': 0.020385455507128,\n",
       " 'frechet_inception_distance': 7.61726559120001,\n",
       " 'kernel_inception_distance_mean': 0.008803351719219222,\n",
       " 'kernel_inception_distance_std': 0.0006384332745241464}"
      ]
     },
     "execution_count": 3,
     "metadata": {},
     "output_type": "execute_result"
    }
   ],
   "source": [
    "metrics_dict"
   ]
  },
  {
   "cell_type": "code",
   "execution_count": 1,
   "metadata": {},
   "outputs": [
    {
     "name": "stdout",
     "output_type": "stream",
     "text": [
      "(202599, 64, 64, 3) size array saved into celeba64_train.npz\n"
     ]
    }
   ],
   "source": [
    "from framework.util import celebA_to_64\n",
    "\n",
    "celebA_to_64(\"D:\\Dokumente\\SoftwareDev\\MasterThesis\\GIM-evaluation\\original_images\\images\\\\\",\n",
    "             \"D:\\Dokumente\\SoftwareDev\\MasterThesis\\GIM-evaluation\\original_64\\\\\")"
   ]
  }
 ],
 "metadata": {
  "kernelspec": {
   "display_name": "GIM-Eval",
   "language": "python",
   "name": "python3"
  },
  "language_info": {
   "codemirror_mode": {
    "name": "ipython",
    "version": 3
   },
   "file_extension": ".py",
   "mimetype": "text/x-python",
   "name": "python",
   "nbconvert_exporter": "python",
   "pygments_lexer": "ipython3",
   "version": "3.10.12"
  },
  "orig_nbformat": 4
 },
 "nbformat": 4,
 "nbformat_minor": 2
}
