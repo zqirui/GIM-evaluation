{
 "cells": [
  {
   "cell_type": "code",
   "execution_count": 1,
   "metadata": {},
   "outputs": [
    {
     "name": "stdout",
     "output_type": "stream",
     "text": [
      "[INFO]: Real images source found, name:CelebA_Original\n",
      "[INFO]: 4 different generator sources found. Names:\n",
      "cifar-10\n",
      "diffusionStyleGAN2\n",
      "diffusionVAE\n",
      "guidedDiffusion_IP\n",
      "[INFO]: Comparison real-to-real (True)\n",
      "[START]: Calculating Metrics for cifar-10\n",
      "[INFO]: Start Calculation IS, Source = cifar-10\n"
     ]
    },
    {
     "name": "stderr",
     "output_type": "stream",
     "text": [
      "Creating feature extractor \"inception-v3-compat\" with features ['logits_unbiased']\n",
      "Extracting features from input1\n",
      "Processing samples                                                             \n",
      "Inception Score: 11.188994336491497 ± 0.11546924359136353\n",
      "Creating feature extractor \"inception-v3-compat\" with features ['2048']\n",
      "Extracting features from input1\n"
     ]
    },
    {
     "name": "stdout",
     "output_type": "stream",
     "text": [
      "[INFO]: IS finished\n",
      "[INFO]: Start Calculation FID, Source = cifar-10\n"
     ]
    },
    {
     "name": "stderr",
     "output_type": "stream",
     "text": [
      "Processing samples                                                               \n",
      "Extracting features from input2\n",
      "Processing samples                                                             \n",
      "Frechet Inception Distance: 204.99810196877945\n",
      "Kernel Inception Distance: 0.18570843514264265 ± 0.0030885770324867684          \n"
     ]
    },
    {
     "name": "stdout",
     "output_type": "stream",
     "text": [
      "[INFO]: FID finished\n",
      "[INFO]: Start Calculation KID, Source = cifar-10\n",
      "[INFO]: KID finished\n"
     ]
    },
    {
     "name": "stderr",
     "output_type": "stream",
     "text": [
      "Creating feature extractor \"vgg16\" with features ['fc2_relu']\n",
      "Extracting features from input1\n",
      "Processing samples                                                             \n",
      "Extracting features from input2\n",
      "Processing samples                                                             \n",
      "Precision: 0.09567999839782715\n",
      "Recall: 0.0009399999980814755\n",
      "F-score: 0.00186170978686751\n",
      "Creating feature extractor \"inception-v3-compat\" with features ['logits_unbiased']\n"
     ]
    },
    {
     "name": "stdout",
     "output_type": "stream",
     "text": [
      "[INFO]: Improved PRC finished\n",
      "[FINISHED]: Calculating Metrics for cifar-10\n",
      "{'Inception Score Mean': 11.188994336491497, 'Inception Score Std': 0.11546924359136353, 'Frechet Inception Distance': 204.99810196877945, 'Kernel Inception Distance Mean': 0.18570843514264265, 'Kernel Inception Distance Std': 0.0030885770324867684, 'Precision': 0.09567999839782715, 'Recall': 0.0009399999980814755, 'F1 Score': 0.00186170978686751}\n",
      "[START]: Calculating Metrics for diffusionStyleGAN2\n",
      "[INFO]: Start Calculation IS, Source = diffusionStyleGAN2\n"
     ]
    },
    {
     "name": "stderr",
     "output_type": "stream",
     "text": [
      "Extracting features from input1\n",
      "Processing samples                                                             \n",
      "Inception Score: 3.1169279089311788 ± 0.02754074442775185\n",
      "Creating feature extractor \"inception-v3-compat\" with features ['2048']\n",
      "Extracting features from input1\n"
     ]
    },
    {
     "name": "stdout",
     "output_type": "stream",
     "text": [
      "[INFO]: IS finished\n",
      "[INFO]: Start Calculation FID, Source = diffusionStyleGAN2\n"
     ]
    },
    {
     "name": "stderr",
     "output_type": "stream",
     "text": [
      "Processing samples                                                               \n",
      "Extracting features from input2\n",
      "Processing samples                                                             \n",
      "Frechet Inception Distance: 11.367448876552714\n",
      "Kernel Inception Distance: 0.01063310997747744 ± 0.0006198271780372778          \n"
     ]
    },
    {
     "name": "stdout",
     "output_type": "stream",
     "text": [
      "[INFO]: FID finished\n",
      "[INFO]: Start Calculation KID, Source = diffusionStyleGAN2\n",
      "[INFO]: KID finished\n"
     ]
    },
    {
     "name": "stderr",
     "output_type": "stream",
     "text": [
      "Creating feature extractor \"vgg16\" with features ['fc2_relu']\n",
      "Extracting features from input1\n",
      "Processing samples                                                             \n",
      "Extracting features from input2\n",
      "Processing samples                                                             \n",
      "Precision: 0.6177800297737122\n",
      "Recall: 0.3562999963760376\n",
      "F-score: 0.45194443261425166\n",
      "Creating feature extractor \"inception-v3-compat\" with features ['logits_unbiased']\n"
     ]
    },
    {
     "name": "stdout",
     "output_type": "stream",
     "text": [
      "[INFO]: Improved PRC finished\n",
      "[FINISHED]: Calculating Metrics for diffusionStyleGAN2\n",
      "{'Inception Score Mean': 3.1169279089311788, 'Inception Score Std': 0.02754074442775185, 'Frechet Inception Distance': 11.367448876552714, 'Kernel Inception Distance Mean': 0.01063310997747744, 'Kernel Inception Distance Std': 0.0006198271780372778, 'Precision': 0.6177800297737122, 'Recall': 0.3562999963760376, 'F1 Score': 0.45194443261425166}\n",
      "[START]: Calculating Metrics for diffusionVAE\n",
      "[INFO]: Start Calculation IS, Source = diffusionVAE\n"
     ]
    },
    {
     "name": "stderr",
     "output_type": "stream",
     "text": [
      "Extracting features from input1\n",
      "Processing samples                                                             \n",
      "Inception Score: 3.031702556257602 ± 0.03854898566615847\n",
      "Creating feature extractor \"inception-v3-compat\" with features ['2048']\n",
      "Extracting features from input1\n"
     ]
    },
    {
     "name": "stdout",
     "output_type": "stream",
     "text": [
      "[INFO]: IS finished\n",
      "[INFO]: Start Calculation FID, Source = diffusionVAE\n"
     ]
    },
    {
     "name": "stderr",
     "output_type": "stream",
     "text": [
      "Processing samples                                                               \n",
      "Extracting features from input2\n",
      "Processing samples                                                             \n",
      "Frechet Inception Distance: 16.49486166225401\n",
      "Kernel Inception Distance: 0.016086738425925923 ± 0.0007564590874885127         \n"
     ]
    },
    {
     "name": "stdout",
     "output_type": "stream",
     "text": [
      "[INFO]: FID finished\n",
      "[INFO]: Start Calculation KID, Source = diffusionVAE\n",
      "[INFO]: KID finished\n"
     ]
    },
    {
     "name": "stderr",
     "output_type": "stream",
     "text": [
      "Creating feature extractor \"vgg16\" with features ['fc2_relu']\n",
      "Extracting features from input1\n",
      "Processing samples                                                             \n",
      "Extracting features from input2\n",
      "Processing samples                                                             \n",
      "Precision: 0.7888799905776978\n",
      "Recall: 0.15568000078201294\n",
      "F-score: 0.2600424296465471\n",
      "Creating feature extractor \"inception-v3-compat\" with features ['logits_unbiased']\n"
     ]
    },
    {
     "name": "stdout",
     "output_type": "stream",
     "text": [
      "[INFO]: Improved PRC finished\n",
      "[FINISHED]: Calculating Metrics for diffusionVAE\n",
      "{'Inception Score Mean': 3.031702556257602, 'Inception Score Std': 0.03854898566615847, 'Frechet Inception Distance': 16.49486166225401, 'Kernel Inception Distance Mean': 0.016086738425925923, 'Kernel Inception Distance Std': 0.0007564590874885127, 'Precision': 0.7888799905776978, 'Recall': 0.15568000078201294, 'F1 Score': 0.2600424296465471}\n",
      "[START]: Calculating Metrics for guidedDiffusion_IP\n",
      "[INFO]: Start Calculation IS, Source = guidedDiffusion_IP\n"
     ]
    },
    {
     "name": "stderr",
     "output_type": "stream",
     "text": [
      "Extracting features from input1\n",
      "Processing samples                                                             \n",
      "Inception Score: 2.936904577581847 ± 0.025272358693654125\n",
      "Creating feature extractor \"inception-v3-compat\" with features ['2048']\n",
      "Extracting features from input1\n"
     ]
    },
    {
     "name": "stdout",
     "output_type": "stream",
     "text": [
      "[INFO]: IS finished\n",
      "[INFO]: Start Calculation FID, Source = guidedDiffusion_IP\n"
     ]
    },
    {
     "name": "stderr",
     "output_type": "stream",
     "text": [
      "Processing samples                                                               \n",
      "Extracting features from input2\n",
      "Processing samples                                                             \n",
      "Frechet Inception Distance: 7.617265591198162\n",
      "Kernel Inception Distance: 0.008803351719219222 ± 0.0006384332745241464         \n"
     ]
    },
    {
     "name": "stdout",
     "output_type": "stream",
     "text": [
      "[INFO]: FID finished\n",
      "[INFO]: Start Calculation KID, Source = guidedDiffusion_IP\n",
      "[INFO]: KID finished\n"
     ]
    },
    {
     "name": "stderr",
     "output_type": "stream",
     "text": [
      "Creating feature extractor \"vgg16\" with features ['fc2_relu']\n",
      "Extracting features from input1\n",
      "Processing samples                                                             \n",
      "Extracting features from input2\n",
      "Processing samples                                                             \n",
      "Precision: 0.5491399765014648\n",
      "Recall: 0.4372600018978119\n",
      "F-score: 0.48685513468249475\n",
      "Creating feature extractor \"inception-v3-compat\" with features ['logits_unbiased']\n"
     ]
    },
    {
     "name": "stdout",
     "output_type": "stream",
     "text": [
      "[INFO]: Improved PRC finished\n",
      "[FINISHED]: Calculating Metrics for guidedDiffusion_IP\n",
      "{'Inception Score Mean': 2.936904577581847, 'Inception Score Std': 0.025272358693654125, 'Frechet Inception Distance': 7.617265591198162, 'Kernel Inception Distance Mean': 0.008803351719219222, 'Kernel Inception Distance Std': 0.0006384332745241464, 'Precision': 0.5491399765014648, 'Recall': 0.4372600018978119, 'F1 Score': 0.48685513468249475}\n",
      "[START]: Calculating Metrics for CelebA_Original\n",
      "[INFO]: Start Calculation IS, Source = CelebA_Original\n"
     ]
    },
    {
     "name": "stderr",
     "output_type": "stream",
     "text": [
      "Extracting features from input1\n",
      "Processing samples                                                               \n",
      "Inception Score: 3.5856323974726556 ± 0.020385455507128\n",
      "Creating feature extractor \"inception-v3-compat\" with features ['2048']\n"
     ]
    },
    {
     "name": "stdout",
     "output_type": "stream",
     "text": [
      "[INFO]: IS finished\n",
      "[INFO]: Start Calculation FID, Source = CelebA_Original\n"
     ]
    },
    {
     "name": "stderr",
     "output_type": "stream",
     "text": [
      "Extracting features from input1\n",
      "Processing samples                                                               \n",
      "Extracting features from input2\n",
      "Processing samples                                                               \n",
      "Frechet Inception Distance: -5.684341886080802e-14\n",
      "Kernel Inception Distance: -1.4059582082075472e-05 ± 9.778459226345613e-05       \n",
      "Creating feature extractor \"vgg16\" with features ['fc2_relu']\n"
     ]
    },
    {
     "name": "stdout",
     "output_type": "stream",
     "text": [
      "[INFO]: FID finished\n",
      "[INFO]: Start Calculation KID, Source = CelebA_Original\n",
      "[INFO]: KID finished\n"
     ]
    },
    {
     "name": "stderr",
     "output_type": "stream",
     "text": [
      "Extracting features from input1\n",
      "                                                                                 \r"
     ]
    },
    {
     "ename": "KeyboardInterrupt",
     "evalue": "",
     "output_type": "error",
     "traceback": [
      "\u001b[1;31m---------------------------------------------------------------------------\u001b[0m",
      "\u001b[1;31mKeyboardInterrupt\u001b[0m                         Traceback (most recent call last)",
      "Cell \u001b[1;32mIn[1], line 25\u001b[0m\n\u001b[0;32m     14\u001b[0m platform_cfg \u001b[39m=\u001b[39m PlatformConfig(\n\u001b[0;32m     15\u001b[0m     verbose\u001b[39m=\u001b[39m\u001b[39mTrue\u001b[39;00m,\n\u001b[0;32m     16\u001b[0m     cuda\u001b[39m=\u001b[39m\u001b[39mTrue\u001b[39;00m,\n\u001b[0;32m     17\u001b[0m     save_cpu_ram\u001b[39m=\u001b[39m\u001b[39mFalse\u001b[39;00m,\n\u001b[0;32m     18\u001b[0m     compare_real_to_real\u001b[39m=\u001b[39m\u001b[39mTrue\u001b[39;00m\n\u001b[0;32m     19\u001b[0m )\n\u001b[0;32m     21\u001b[0m platform_manager \u001b[39m=\u001b[39m PlatformManager(real_images_path\u001b[39m=\u001b[39mos\u001b[39m.\u001b[39mpath\u001b[39m.\u001b[39mjoin(os\u001b[39m.\u001b[39mgetcwd(), \u001b[39m\"\u001b[39m\u001b[39moriginal_64\u001b[39m\u001b[39m\"\u001b[39m),\n\u001b[0;32m     22\u001b[0m                                    eval_config\u001b[39m=\u001b[39meval_cfg,\n\u001b[0;32m     23\u001b[0m                                    platform_config\u001b[39m=\u001b[39mplatform_cfg)\n\u001b[1;32m---> 25\u001b[0m platform_manager\u001b[39m.\u001b[39;49mcalc_metrics()\n",
      "File \u001b[1;32md:\\Dokumente\\SoftwareDev\\MasterThesis\\GIM-evaluation\\framework\\Platform.py:121\u001b[0m, in \u001b[0;36mPlatformManager.calc_metrics\u001b[1;34m(self)\u001b[0m\n\u001b[0;32m    119\u001b[0m name \u001b[39m=\u001b[39m \u001b[39m\"\u001b[39m\u001b[39mImproved Precision Recall (PRC)\u001b[39m\u001b[39m\"\u001b[39m\n\u001b[0;32m    120\u001b[0m metric_prc \u001b[39m=\u001b[39m PRC(name\u001b[39m=\u001b[39mname, eval_config\u001b[39m=\u001b[39m\u001b[39mself\u001b[39m\u001b[39m.\u001b[39meval_cfg, platform_config\u001b[39m=\u001b[39m\u001b[39mself\u001b[39m\u001b[39m.\u001b[39mplatform_cfg, real_img\u001b[39m=\u001b[39mreal_img, generated_img\u001b[39m=\u001b[39mgenerated_img)\n\u001b[1;32m--> 121\u001b[0m precision, recall, f1 \u001b[39m=\u001b[39m metric_prc\u001b[39m.\u001b[39;49mcalculate()\n\u001b[0;32m    122\u001b[0m \u001b[39mself\u001b[39m\u001b[39m.\u001b[39mout_dict\u001b[39m.\u001b[39mupdate({\u001b[39m\"\u001b[39m\u001b[39mPrecision\u001b[39m\u001b[39m\"\u001b[39m : precision, \u001b[39m\"\u001b[39m\u001b[39mRecall\u001b[39m\u001b[39m\"\u001b[39m : recall, \u001b[39m\"\u001b[39m\u001b[39mF1 Score\u001b[39m\u001b[39m\"\u001b[39m : f1})\n\u001b[0;32m    123\u001b[0m \u001b[39mprint\u001b[39m(\u001b[39mf\u001b[39m\u001b[39m\"\u001b[39m\u001b[39m[INFO]: Improved PRC finished\u001b[39m\u001b[39m\"\u001b[39m)\n",
      "File \u001b[1;32md:\\Dokumente\\SoftwareDev\\MasterThesis\\GIM-evaluation\\metrics\\prc_metric.py:35\u001b[0m, in \u001b[0;36mPRC.calculate\u001b[1;34m(self)\u001b[0m\n\u001b[0;32m     33\u001b[0m \u001b[39mdef\u001b[39;00m \u001b[39mcalculate\u001b[39m(\u001b[39mself\u001b[39m) \u001b[39m-\u001b[39m\u001b[39m>\u001b[39m \u001b[39mfloat\u001b[39m \u001b[39m|\u001b[39m Tuple[\u001b[39mfloat\u001b[39m, \u001b[39mfloat\u001b[39m, \u001b[39mfloat\u001b[39m]:\n\u001b[0;32m     34\u001b[0m     \u001b[39massert\u001b[39;00m \u001b[39mlen\u001b[39m(\u001b[39mself\u001b[39m\u001b[39m.\u001b[39mreal_img_downsampled) \u001b[39m==\u001b[39m \u001b[39mlen\u001b[39m(\u001b[39mself\u001b[39m\u001b[39m.\u001b[39mgenerated_img), \u001b[39m\"\u001b[39m\u001b[39mDifferent sample sizes of real and generated images!\u001b[39m\u001b[39m\"\u001b[39m\n\u001b[1;32m---> 35\u001b[0m     metric_dict \u001b[39m=\u001b[39m torch_fidelity\u001b[39m.\u001b[39;49mcalculate_metrics(\n\u001b[0;32m     36\u001b[0m         input1\u001b[39m=\u001b[39;49m\u001b[39mself\u001b[39;49m\u001b[39m.\u001b[39;49mreal_img_downsampled,\n\u001b[0;32m     37\u001b[0m         input2\u001b[39m=\u001b[39;49m\u001b[39mself\u001b[39;49m\u001b[39m.\u001b[39;49mgenerated_img,\n\u001b[0;32m     38\u001b[0m         cuda\u001b[39m=\u001b[39;49m\u001b[39mself\u001b[39;49m\u001b[39m.\u001b[39;49mplatform_config\u001b[39m.\u001b[39;49mcuda,\n\u001b[0;32m     39\u001b[0m         prc\u001b[39m=\u001b[39;49m\u001b[39mTrue\u001b[39;49;00m,\n\u001b[0;32m     40\u001b[0m         prc_neighborhood\u001b[39m=\u001b[39;49m\u001b[39mself\u001b[39;49m\u001b[39m.\u001b[39;49meval_config\u001b[39m.\u001b[39;49mprc_neighborhood,\n\u001b[0;32m     41\u001b[0m         prc_batch_size\u001b[39m=\u001b[39;49m\u001b[39mself\u001b[39;49m\u001b[39m.\u001b[39;49meval_config\u001b[39m.\u001b[39;49mprc_batch_size,\n\u001b[0;32m     42\u001b[0m         verbose\u001b[39m=\u001b[39;49m\u001b[39mself\u001b[39;49m\u001b[39m.\u001b[39;49mplatform_config\u001b[39m.\u001b[39;49mverbose,\n\u001b[0;32m     43\u001b[0m         save_cpu_ram\u001b[39m=\u001b[39;49m\u001b[39mself\u001b[39;49m\u001b[39m.\u001b[39;49mplatform_config\u001b[39m.\u001b[39;49msave_cpu_ram,\n\u001b[0;32m     44\u001b[0m     )\n\u001b[0;32m     45\u001b[0m     \u001b[39mreturn\u001b[39;00m (\n\u001b[0;32m     46\u001b[0m         metric_dict[KEY_METRIC_PRECISION],\n\u001b[0;32m     47\u001b[0m         metric_dict[KEY_METRIC_RECALL],\n\u001b[0;32m     48\u001b[0m         metric_dict[KEY_METRIC_F_SCORE],\n\u001b[0;32m     49\u001b[0m     )\n",
      "File \u001b[1;32md:\\dokumente\\softwaredev\\masterthesis\\gim-evaluation\\src\\torch-fidelity\\torch_fidelity\\metrics.py:322\u001b[0m, in \u001b[0;36mcalculate_metrics\u001b[1;34m(**kwargs)\u001b[0m\n\u001b[0;32m    318\u001b[0m have_default_fe_vgg \u001b[39m=\u001b[39m have_prc\n\u001b[0;32m    320\u001b[0m \u001b[39mif\u001b[39;00m fe_name \u001b[39mis\u001b[39;00m \u001b[39mnot\u001b[39;00m \u001b[39mNone\u001b[39;00m \u001b[39mor\u001b[39;00m \u001b[39mnot\u001b[39;00m (have_default_fe_inception \u001b[39mand\u001b[39;00m have_default_fe_vgg):\n\u001b[0;32m    321\u001b[0m     \u001b[39m# using the same non-default feature extractor for all metrics except ppl, or using just one default extractor\u001b[39;00m\n\u001b[1;32m--> 322\u001b[0m     \u001b[39mreturn\u001b[39;00m calculate_metrics_one_feature_extractor(\u001b[39m*\u001b[39m\u001b[39m*\u001b[39mkwargs)\n\u001b[0;32m    324\u001b[0m out \u001b[39m=\u001b[39m {}\n\u001b[0;32m    325\u001b[0m kwargs_subset \u001b[39m=\u001b[39m \u001b[39mdict\u001b[39m(\u001b[39m*\u001b[39m\u001b[39m*\u001b[39mkwargs)\n",
      "File \u001b[1;32md:\\dokumente\\softwaredev\\masterthesis\\gim-evaluation\\src\\torch-fidelity\\torch_fidelity\\metrics.py:67\u001b[0m, in \u001b[0;36mcalculate_metrics_one_feature_extractor\u001b[1;34m(**kwargs)\u001b[0m\n\u001b[0;32m     64\u001b[0m     \u001b[39mreturn\u001b[39;00m metrics\n\u001b[0;32m     66\u001b[0m vprint(verbose, \u001b[39mf\u001b[39m\u001b[39m'\u001b[39m\u001b[39mExtracting features from input1\u001b[39m\u001b[39m'\u001b[39m)\n\u001b[1;32m---> 67\u001b[0m featuresdict_1 \u001b[39m=\u001b[39m extract_featuresdict_from_input_id_cached(\u001b[39m1\u001b[39m, feat_extractor, \u001b[39m*\u001b[39m\u001b[39m*\u001b[39mkwargs)\n\u001b[0;32m     68\u001b[0m featuresdict_2 \u001b[39m=\u001b[39m \u001b[39mNone\u001b[39;00m\n\u001b[0;32m     69\u001b[0m \u001b[39mif\u001b[39;00m input2 \u001b[39mis\u001b[39;00m \u001b[39mnot\u001b[39;00m \u001b[39mNone\u001b[39;00m:\n",
      "File \u001b[1;32md:\\dokumente\\softwaredev\\masterthesis\\gim-evaluation\\src\\torch-fidelity\\torch_fidelity\\utils.py:407\u001b[0m, in \u001b[0;36mextract_featuresdict_from_input_id_cached\u001b[1;34m(input_id, feat_extractor, **kwargs)\u001b[0m\n\u001b[0;32m    400\u001b[0m     featuresdict \u001b[39m=\u001b[39m cache_lookup_group_recompute_all_on_any_miss(\n\u001b[0;32m    401\u001b[0m         cached_filename_prefix,\n\u001b[0;32m    402\u001b[0m         feat_extractor\u001b[39m.\u001b[39mget_requested_features_list(),\n\u001b[0;32m    403\u001b[0m         fn_recompute,\n\u001b[0;32m    404\u001b[0m         \u001b[39m*\u001b[39m\u001b[39m*\u001b[39mkwargs,\n\u001b[0;32m    405\u001b[0m     )\n\u001b[0;32m    406\u001b[0m \u001b[39melse\u001b[39;00m:\n\u001b[1;32m--> 407\u001b[0m     featuresdict \u001b[39m=\u001b[39m fn_recompute()\n\u001b[0;32m    408\u001b[0m \u001b[39mreturn\u001b[39;00m featuresdict\n",
      "File \u001b[1;32md:\\dokumente\\softwaredev\\masterthesis\\gim-evaluation\\src\\torch-fidelity\\torch_fidelity\\utils.py:395\u001b[0m, in \u001b[0;36mextract_featuresdict_from_input_id_cached.<locals>.fn_recompute\u001b[1;34m()\u001b[0m\n\u001b[0;32m    394\u001b[0m \u001b[39mdef\u001b[39;00m \u001b[39mfn_recompute\u001b[39m():\n\u001b[1;32m--> 395\u001b[0m     \u001b[39mreturn\u001b[39;00m extract_featuresdict_from_input_id(input_id, feat_extractor, \u001b[39m*\u001b[39m\u001b[39m*\u001b[39mkwargs)\n",
      "File \u001b[1;32md:\\dokumente\\softwaredev\\masterthesis\\gim-evaluation\\src\\torch-fidelity\\torch_fidelity\\utils.py:380\u001b[0m, in \u001b[0;36mextract_featuresdict_from_input_id\u001b[1;34m(input_id, feat_extractor, **kwargs)\u001b[0m\n\u001b[0;32m    378\u001b[0m \u001b[39mif\u001b[39;00m \u001b[39misinstance\u001b[39m(\u001b[39minput\u001b[39m, Dataset):\n\u001b[0;32m    379\u001b[0m     save_cpu_ram \u001b[39m=\u001b[39m get_kwarg(\u001b[39m'\u001b[39m\u001b[39msave_cpu_ram\u001b[39m\u001b[39m'\u001b[39m, kwargs)\n\u001b[1;32m--> 380\u001b[0m     featuresdict \u001b[39m=\u001b[39m get_featuresdict_from_dataset(\u001b[39minput\u001b[39;49m, feat_extractor, batch_size, cuda, save_cpu_ram, verbose)\n\u001b[0;32m    381\u001b[0m \u001b[39melse\u001b[39;00m:\n\u001b[0;32m    382\u001b[0m     input_desc \u001b[39m=\u001b[39m prepare_input_descriptor_from_input_id(input_id, \u001b[39m*\u001b[39m\u001b[39m*\u001b[39mkwargs)\n",
      "File \u001b[1;32md:\\dokumente\\softwaredev\\masterthesis\\gim-evaluation\\src\\torch-fidelity\\torch_fidelity\\utils.py:133\u001b[0m, in \u001b[0;36mget_featuresdict_from_dataset\u001b[1;34m(input, feat_extractor, batch_size, cuda, save_cpu_ram, verbose)\u001b[0m\n\u001b[0;32m    131\u001b[0m features \u001b[39m=\u001b[39m feat_extractor(batch)\n\u001b[0;32m    132\u001b[0m featuresdict \u001b[39m=\u001b[39m feat_extractor\u001b[39m.\u001b[39mconvert_features_tuple_to_dict(features)\n\u001b[1;32m--> 133\u001b[0m featuresdict \u001b[39m=\u001b[39m {k: [v\u001b[39m.\u001b[39mcpu()] \u001b[39mfor\u001b[39;00m k, v \u001b[39min\u001b[39;00m featuresdict\u001b[39m.\u001b[39mitems()}\n\u001b[0;32m    135\u001b[0m \u001b[39mif\u001b[39;00m out \u001b[39mis\u001b[39;00m \u001b[39mNone\u001b[39;00m:\n\u001b[0;32m    136\u001b[0m     out \u001b[39m=\u001b[39m featuresdict\n",
      "File \u001b[1;32md:\\dokumente\\softwaredev\\masterthesis\\gim-evaluation\\src\\torch-fidelity\\torch_fidelity\\utils.py:133\u001b[0m, in \u001b[0;36m<dictcomp>\u001b[1;34m(.0)\u001b[0m\n\u001b[0;32m    131\u001b[0m features \u001b[39m=\u001b[39m feat_extractor(batch)\n\u001b[0;32m    132\u001b[0m featuresdict \u001b[39m=\u001b[39m feat_extractor\u001b[39m.\u001b[39mconvert_features_tuple_to_dict(features)\n\u001b[1;32m--> 133\u001b[0m featuresdict \u001b[39m=\u001b[39m {k: [v\u001b[39m.\u001b[39;49mcpu()] \u001b[39mfor\u001b[39;00m k, v \u001b[39min\u001b[39;00m featuresdict\u001b[39m.\u001b[39mitems()}\n\u001b[0;32m    135\u001b[0m \u001b[39mif\u001b[39;00m out \u001b[39mis\u001b[39;00m \u001b[39mNone\u001b[39;00m:\n\u001b[0;32m    136\u001b[0m     out \u001b[39m=\u001b[39m featuresdict\n",
      "\u001b[1;31mKeyboardInterrupt\u001b[0m: "
     ]
    }
   ],
   "source": [
    "from framework.Platform import PlatformManager\n",
    "from framework.Configs import PlatformConfig, EvalConfig\n",
    "import os\n",
    "\n",
    "\n",
    "eval_cfg = EvalConfig(\n",
    "    inception_score=True,\n",
    "    fid=True,\n",
    "    kid=True,\n",
    "    prc=True,\n",
    "    ppl=False,\n",
    ")\n",
    "\n",
    "platform_cfg = PlatformConfig(\n",
    "    verbose=True,\n",
    "    cuda=True,\n",
    "    save_cpu_ram=False,\n",
    "    compare_real_to_real=True\n",
    ")\n",
    "\n",
    "platform_manager = PlatformManager(real_images_path=os.path.join(os.getcwd(), \"original_64\"),\n",
    "                                   eval_config=eval_cfg,\n",
    "                                   platform_config=platform_cfg)\n",
    "\n",
    "platform_manager.calc_metrics()\n",
    "\n"
   ]
  },
  {
   "cell_type": "code",
   "execution_count": 1,
   "metadata": {},
   "outputs": [
    {
     "name": "stdout",
     "output_type": "stream",
     "text": [
      "[INFO]: Real images source found, name:CelebA_Original\n",
      "[INFO]: 1 different generator sources found. Names:\n",
      "original_64\n",
      "[INFO]: Comparison real-to-real (True)\n",
      "[START]: Calculating Metrics for original_64\n",
      "[INFO]: Start Calculation IS, Source = original_64\n"
     ]
    },
    {
     "name": "stderr",
     "output_type": "stream",
     "text": [
      "Creating feature extractor \"inception-v3-compat\" with features ['logits_unbiased']\n",
      "Extracting features from input1\n",
      "Processing samples                                                               \n",
      "Inception Score: 3.5856323974726556 ± 0.020385455507128\n",
      "Creating feature extractor \"inception-v3-compat\" with features ['2048']\n"
     ]
    },
    {
     "name": "stdout",
     "output_type": "stream",
     "text": [
      "[INFO]: IS finished\n",
      "[INFO]: Start Calculation FID, Source = original_64\n"
     ]
    },
    {
     "name": "stderr",
     "output_type": "stream",
     "text": [
      "Extracting features from input1\n",
      "Processing samples                                                               \n",
      "Extracting features from input2\n",
      "Processing samples                                                               \n",
      "Frechet Inception Distance: -5.684341886080802e-14\n",
      "Kernel Inception Distance: -1.4059582082075472e-05 ± 9.778459226345613e-05      \n"
     ]
    },
    {
     "name": "stdout",
     "output_type": "stream",
     "text": [
      "[INFO]: FID finished\n",
      "[INFO]: Start Calculation KID, Source = original_64\n",
      "[INFO]: KID finished\n",
      "[INFO]: Start Calculation Improved PRC, Source = original_64\n"
     ]
    },
    {
     "name": "stderr",
     "output_type": "stream",
     "text": [
      "Creating feature extractor \"vgg16\" with features ['fc2_relu']\n",
      "Extracting features from input1\n",
      "Processing samples                                                             \n",
      "Extracting features from input2\n",
      "Processing samples                                                             \n",
      "Precision: 0.7388799786567688\n",
      "Recall: 0.7351599931716919\n",
      "F-score: 0.7370152919126179\n",
      "Creating feature extractor \"inception-v3-compat\" with features ['logits_unbiased']\n"
     ]
    },
    {
     "name": "stdout",
     "output_type": "stream",
     "text": [
      "[INFO]: Improved PRC finished\n",
      "[FINISHED]: Calculating Metrics for original_64\n",
      "{'Inception Score Mean': 3.5856323974726556, 'Inception Score Std': 0.020385455507128, 'Frechet Inception Distance': -5.684341886080802e-14, 'Kernel Inception Distance Mean': -1.4059582082075472e-05, 'Kernel Inception Distance Std': 9.778459226345613e-05, 'Precision': 0.7388799786567688, 'Recall': 0.7351599931716919, 'F1 Score': 0.7370152919126179}\n",
      "[START]: Calculating Metrics for CelebA_Original\n",
      "[INFO]: Start Calculation IS, Source = CelebA_Original\n"
     ]
    },
    {
     "name": "stderr",
     "output_type": "stream",
     "text": [
      "Extracting features from input1\n",
      "Processing samples                                                               \n",
      "Inception Score: 3.5856323974726556 ± 0.020385455507128\n",
      "Creating feature extractor \"inception-v3-compat\" with features ['2048']\n"
     ]
    },
    {
     "name": "stdout",
     "output_type": "stream",
     "text": [
      "[INFO]: IS finished\n",
      "[INFO]: Start Calculation FID, Source = CelebA_Original\n"
     ]
    },
    {
     "name": "stderr",
     "output_type": "stream",
     "text": [
      "Extracting features from input1\n",
      "Processing samples                                                               \n",
      "Extracting features from input2\n",
      "Processing samples                                                               \n",
      "Frechet Inception Distance: -5.684341886080802e-14\n",
      "Kernel Inception Distance: -1.4059582082075472e-05 ± 9.778459226345613e-05      \n"
     ]
    },
    {
     "name": "stdout",
     "output_type": "stream",
     "text": [
      "[INFO]: FID finished\n",
      "[INFO]: Start Calculation KID, Source = CelebA_Original\n",
      "[INFO]: KID finished\n",
      "[INFO]: Start Calculation Improved PRC, Source = CelebA_Original\n"
     ]
    },
    {
     "name": "stderr",
     "output_type": "stream",
     "text": [
      "Creating feature extractor \"vgg16\" with features ['fc2_relu']\n",
      "Extracting features from input1\n",
      "Processing samples                                                             \n",
      "Extracting features from input2\n",
      "Processing samples                                                             \n",
      "Precision: 0.7380800247192383\n",
      "Recall: 0.7356799840927124\n",
      "F-score: 0.7368780501546134\n"
     ]
    },
    {
     "name": "stdout",
     "output_type": "stream",
     "text": [
      "[INFO]: Improved PRC finished\n",
      "[FINISHED]: Calculating Metrics for CelebA_Original\n",
      "{'Inception Score Mean': 3.5856323974726556, 'Inception Score Std': 0.020385455507128, 'Frechet Inception Distance': -5.684341886080802e-14, 'Kernel Inception Distance Mean': -1.4059582082075472e-05, 'Kernel Inception Distance Std': 9.778459226345613e-05, 'Precision': 0.7380800247192383, 'Recall': 0.7356799840927124, 'F1 Score': 0.7368780501546134}\n"
     ]
    },
    {
     "ename": "ValueError",
     "evalue": "too many values to unpack (expected 2)",
     "output_type": "error",
     "traceback": [
      "\u001b[1;31m---------------------------------------------------------------------------\u001b[0m",
      "\u001b[1;31mValueError\u001b[0m                                Traceback (most recent call last)",
      "Cell \u001b[1;32mIn[1], line 27\u001b[0m\n\u001b[0;32m     21\u001b[0m platform_manager \u001b[39m=\u001b[39m PlatformManager(real_images_path\u001b[39m=\u001b[39mos\u001b[39m.\u001b[39mpath\u001b[39m.\u001b[39mjoin(os\u001b[39m.\u001b[39mgetcwd(), \u001b[39m\"\u001b[39m\u001b[39moriginal_64\u001b[39m\u001b[39m\"\u001b[39m),\n\u001b[0;32m     22\u001b[0m                                    generated_images_path\u001b[39m=\u001b[39mos\u001b[39m.\u001b[39mpath\u001b[39m.\u001b[39mjoin(os\u001b[39m.\u001b[39mgetcwd(), \u001b[39m\"\u001b[39m\u001b[39mtmp\u001b[39m\u001b[39m\"\u001b[39m),\n\u001b[0;32m     23\u001b[0m                                    eval_config\u001b[39m=\u001b[39meval_cfg,\n\u001b[0;32m     24\u001b[0m                                    platform_config\u001b[39m=\u001b[39mplatform_cfg)\n\u001b[0;32m     26\u001b[0m result_dict \u001b[39m=\u001b[39m platform_manager\u001b[39m.\u001b[39mcalc_metrics()\n\u001b[1;32m---> 27\u001b[0m result_dict\u001b[39m.\u001b[39;49mprint()\n",
      "File \u001b[1;32md:\\Dokumente\\SoftwareDev\\MasterThesis\\GIM-evaluation\\framework\\Platform.py:32\u001b[0m, in \u001b[0;36mResultDict.print\u001b[1;34m(self)\u001b[0m\n\u001b[0;32m     28\u001b[0m \u001b[39mdef\u001b[39;00m \u001b[39mprint\u001b[39m(\u001b[39mself\u001b[39m):\n\u001b[0;32m     29\u001b[0m \u001b[39m    \u001b[39m\u001b[39m\"\"\"\u001b[39;00m\n\u001b[0;32m     30\u001b[0m \u001b[39m    Custom print function\u001b[39;00m\n\u001b[0;32m     31\u001b[0m \u001b[39m    \"\"\"\u001b[39;00m\n\u001b[1;32m---> 32\u001b[0m     \u001b[39mfor\u001b[39;00m generator, sub_dict \u001b[39min\u001b[39;00m \u001b[39mself\u001b[39m\u001b[39m.\u001b[39mdata:\n\u001b[0;32m     33\u001b[0m         \u001b[39mprint\u001b[39m(\u001b[39mf\u001b[39m\u001b[39m\"\u001b[39m\u001b[39mGenerator Name:[\u001b[39m\u001b[39m{\u001b[39;00mgenerator\u001b[39m}\u001b[39;00m\u001b[39m]\u001b[39m\u001b[39m\"\u001b[39m)\n\u001b[0;32m     34\u001b[0m         \u001b[39mfor\u001b[39;00m metric, score \u001b[39min\u001b[39;00m sub_dict:\n",
      "\u001b[1;31mValueError\u001b[0m: too many values to unpack (expected 2)"
     ]
    }
   ],
   "source": [
    "from framework.Platform import PlatformManager\n",
    "from framework.Configs import PlatformConfig, EvalConfig\n",
    "import os\n",
    "\n",
    "\n",
    "eval_cfg = EvalConfig(\n",
    "    inception_score=True,\n",
    "    fid=True,\n",
    "    kid=True,\n",
    "    prc=True,\n",
    "    ppl=False,\n",
    ")\n",
    "\n",
    "platform_cfg = PlatformConfig(\n",
    "    verbose=True,\n",
    "    cuda=True,\n",
    "    save_cpu_ram=False,\n",
    "    compare_real_to_real=True\n",
    ")\n",
    "\n",
    "platform_manager = PlatformManager(real_images_path=os.path.join(os.getcwd(), \"original_64\"),\n",
    "                                   generated_images_path=os.path.join(os.getcwd(), \"tmp\"),\n",
    "                                   eval_config=eval_cfg,\n",
    "                                   platform_config=platform_cfg)\n",
    "\n",
    "result_dict = platform_manager.calc_metrics()\n",
    "result_dict.print()"
   ]
  },
  {
   "cell_type": "code",
   "execution_count": 12,
   "metadata": {},
   "outputs": [
    {
     "name": "stdout",
     "output_type": "stream",
     "text": [
      "------------------------------------\n",
      "Generator Name: original_64\n",
      "------------------------------------\n",
      "Inception Score Mean: 3.586\n",
      "Inception Score Std: 0.02\n",
      "Frechet Inception Distance: -0.0\n",
      "Kernel Inception Distance Mean: -0.0\n",
      "Kernel Inception Distance Std: 0.0\n",
      "Precision: 0.739\n",
      "Recall: 0.735\n",
      "F1 Score: 0.737\n",
      "------------------------------------\n",
      "Generator Name: CelebA_Original\n",
      "------------------------------------\n",
      "Inception Score Mean: 3.586\n",
      "Inception Score Std: 0.02\n",
      "Frechet Inception Distance: -0.0\n",
      "Kernel Inception Distance Mean: -0.0\n",
      "Kernel Inception Distance Std: 0.0\n",
      "Precision: 0.738\n",
      "Recall: 0.736\n",
      "F1 Score: 0.737\n"
     ]
    }
   ],
   "source": [
    "import numpy as np\n",
    "\n",
    "for generator in result_dict.data:\n",
    "    print(\"------------------------------------\")\n",
    "    print(f\"Generator Name: {generator}\")\n",
    "    print(\"------------------------------------\")\n",
    "    for metric in result_dict.data[generator]:\n",
    "        print(f\"{metric}: {np.round(result_dict.data[generator][metric], 3)}\")"
   ]
  },
  {
   "cell_type": "code",
   "execution_count": 2,
   "metadata": {},
   "outputs": [
    {
     "name": "stdout",
     "output_type": "stream",
     "text": [
      "True\n"
     ]
    },
    {
     "name": "stderr",
     "output_type": "stream",
     "text": [
      "Creating feature extractor \"vgg16\" with features ['fc2_relu']\n",
      "Extracting features from input1\n",
      "Processing samples                                                             \n",
      "Extracting features from input2\n",
      "Processing samples                                                             \n",
      "Precision: 0.54721999168396\n",
      "Recall: 0.43487998843193054\n",
      "F-score: 0.4846248416075926\n"
     ]
    }
   ],
   "source": [
    "import torch_fidelity\n",
    "import torch\n",
    "\n",
    "print(torch.cuda.is_available())\n",
    "\n",
    "metrics_dict = torch_fidelity.calculate_metrics(\n",
    "    input1=platform_manager.helper.real_images_src.get_dataset(), \n",
    "    input2=platform_manager.helper.get_generator_src(\"guidedDiffusion_IP\").get_dataset(), \n",
    "    cuda=True, \n",
    "    isc=False, \n",
    "    fid=False, \n",
    "    kid=False, \n",
    "    prc=True, \n",
    "    verbose=True,\n",
    "    save_cpu_ram=False,\n",
    ")"
   ]
  },
  {
   "cell_type": "code",
   "execution_count": 4,
   "metadata": {},
   "outputs": [
    {
     "name": "stderr",
     "output_type": "stream",
     "text": [
      "Creating feature extractor \"vgg16\" with features ['fc2_relu']\n",
      "Extracting features from input1\n",
      "Processing samples                                                             \n",
      "Extracting features from input2\n",
      "Processing samples                                                             \n",
      "Precision: 0.6168400049209595\n",
      "Recall: 0.3585200011730194\n",
      "F-score: 0.4534725186722886\n"
     ]
    }
   ],
   "source": [
    "metrics_dict = torch_fidelity.calculate_metrics(\n",
    "    input1=platform_manager.helper.real_images_src.get_dataset(), \n",
    "    input2=platform_manager.helper.get_generator_src(\"diffusionStyleGAN2\").get_dataset(), \n",
    "    cuda=True, \n",
    "    isc=False, \n",
    "    fid=False, \n",
    "    kid=False, \n",
    "    prc=True, \n",
    "    verbose=True,\n",
    "    save_cpu_ram=False,\n",
    ")"
   ]
  },
  {
   "cell_type": "code",
   "execution_count": 3,
   "metadata": {},
   "outputs": [
    {
     "name": "stdout",
     "output_type": "stream",
     "text": [
      "(50000, 64, 64, 3) size array saved into celeba64_train.npz\n"
     ]
    }
   ],
   "source": [
    "from framework.util import img_to_64\n",
    "\n",
    "img_to_64(\"D:\\Dokumente\\SoftwareDev\\MasterThesis\\GIM-evaluation\\cifar-10\\\\train\\\\train\\\\\",\n",
    "             \"D:\\Dokumente\\SoftwareDev\\MasterThesis\\GIM-evaluation\\cifar-10\\\\64res\\\\\")"
   ]
  },
  {
   "cell_type": "code",
   "execution_count": null,
   "metadata": {},
   "outputs": [],
   "source": []
  }
 ],
 "metadata": {
  "kernelspec": {
   "display_name": "GIM-Eval",
   "language": "python",
   "name": "python3"
  },
  "language_info": {
   "codemirror_mode": {
    "name": "ipython",
    "version": 3
   },
   "file_extension": ".py",
   "mimetype": "text/x-python",
   "name": "python",
   "nbconvert_exporter": "python",
   "pygments_lexer": "ipython3",
   "version": "3.10.12"
  },
  "orig_nbformat": 4
 },
 "nbformat": 4,
 "nbformat_minor": 2
}
