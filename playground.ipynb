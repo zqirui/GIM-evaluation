{
 "cells": [
  {
   "cell_type": "code",
   "execution_count": null,
   "metadata": {},
   "outputs": [],
   "source": [
    "from framework.platform import PlatformManager\n",
    "from framework.configs import PlatformConfig, EvalConfig\n",
    "import os\n",
    "\n",
    "\n",
    "eval_cfg = EvalConfig(\n",
    "    inception_score=True,\n",
    "    fid=True,\n",
    "    kid=True,\n",
    "    prc=False,\n",
    "    fid_infinity=False,\n",
    "    is_infinity=False,\n",
    "    clean_fid=False,\n",
    "    clean_kid=False,\n",
    "    clean_fid_batch_size=32,\n",
    "    clean_kid_batch_size=32,\n",
    ")\n",
    "\n",
    "platform_cfg = PlatformConfig(\n",
    "    verbose=True,\n",
    "    cuda=True,\n",
    "    save_cpu_ram=False,\n",
    "    compare_real_to_real=True\n",
    ")\n",
    "\n",
    "platform_manager = PlatformManager(real_images_path=os.path.join(os.getcwd(), \"original_64\"),\n",
    "                                   eval_config=eval_cfg,\n",
    "                                   platform_config=platform_cfg)\n",
    "\n",
    "result_dict = platform_manager.calc_metrics()\n",
    "result_dict.print()\n",
    "result_dict.write_to_json(file=\"is_fid_infty.json\")"
   ]
  },
  {
   "cell_type": "code",
   "execution_count": null,
   "metadata": {},
   "outputs": [],
   "source": [
    "from framework.platform import PlatformManager\n",
    "from framework.configs import PlatformConfig, EvalConfig, FeatureExtractor\n",
    "import os\n",
    "\n",
    "\n",
    "\n",
    "eval_cfg = EvalConfig(\n",
    "    prd=False,\n",
    "    feature_extractor=FeatureExtractor.VGGFaceResNet50,\n",
    "    c2st_knn=False,\n",
    "    fid_infinity=False,\n",
    "    is_infinity=False,\n",
    "    clean_fid=False,\n",
    "    clean_kid=False,\n",
    "    inception_score=False,\n",
    "    fid=False,\n",
    "    kid=False,\n",
    "    prc=True,\n",
    "    ls=False,\n",
    ")\n",
    "\n",
    "platform_cfg = PlatformConfig(\n",
    "    verbose=True,\n",
    "    cuda=True,\n",
    "    save_cpu_ram=False,\n",
    "    compare_real_to_real=True,\n",
    "    num_worker=16,\n",
    ")\n",
    "\n",
    "platform_manager = PlatformManager(real_images_path=os.path.join(os.getcwd(), \"original_64\"),\n",
    "                                   eval_config=eval_cfg,\n",
    "                                   platform_config=platform_cfg)\n",
    "\n",
    "result_dict = platform_manager.calc_metrics()\n",
    "result_dict.print()\n",
    "result_dict.write_to_json(file=\"dict/is_vggface.json\")"
   ]
  },
  {
   "cell_type": "code",
   "execution_count": 3,
   "metadata": {},
   "outputs": [
    {
     "name": "stdout",
     "output_type": "stream",
     "text": [
      "------------------------------------\n",
      "Generator Name: cifar-10\n",
      "------------------------------------\n",
      "FID Infinity (Approx.): 0.343\n",
      "IS Infinity (Approx.): 1.0\n",
      "C2ST Adaptive KNN Accuracy: 0.977\n",
      "C2ST Adaptive KNN Normalized: 0.046\n",
      "PRD F8 Max Precision: 0.315\n",
      "PRD F8 Max Recall: 0.128\n",
      "------------------------------------\n",
      "Generator Name: diffusionStyleGAN2\n",
      "------------------------------------\n",
      "FID Infinity (Approx.): 0.033\n",
      "IS Infinity (Approx.): 1.0\n",
      "C2ST Adaptive KNN Accuracy: 0.629\n",
      "C2ST Adaptive KNN Normalized: 0.742\n",
      "PRD F8 Max Precision: 0.772\n",
      "PRD F8 Max Recall: 0.855\n",
      "------------------------------------\n",
      "Generator Name: diffusionVAE\n",
      "------------------------------------\n",
      "FID Infinity (Approx.): 0.09\n",
      "IS Infinity (Approx.): 1.0\n",
      "C2ST Adaptive KNN Accuracy: 0.69\n",
      "C2ST Adaptive KNN Normalized: 0.621\n",
      "PRD F8 Max Precision: 0.976\n",
      "PRD F8 Max Recall: 0.974\n",
      "------------------------------------\n",
      "Generator Name: guidedDiffusion_IP\n",
      "------------------------------------\n",
      "FID Infinity (Approx.): 0.004\n",
      "IS Infinity (Approx.): 1.0\n",
      "C2ST Adaptive KNN Accuracy: 0.592\n",
      "C2ST Adaptive KNN Normalized: 0.817\n",
      "PRD F8 Max Precision: 0.992\n",
      "PRD F8 Max Recall: 0.991\n",
      "------------------------------------\n",
      "Generator Name: CelebA64 (Original)\n",
      "------------------------------------\n",
      "FID Infinity (Approx.): -0.0\n",
      "IS Infinity (Approx.): 1.0\n",
      "C2ST Adaptive KNN Accuracy: 0.5\n",
      "C2ST Adaptive KNN Normalized: 1.0\n",
      "PRD F8 Max Precision: 1.0\n",
      "PRD F8 Max Recall: 1.0\n"
     ]
    }
   ],
   "source": [
    "from framework.platform import ResultDict\n",
    "\n",
    "results = ResultDict({})\n",
    "results.read_from_json(\"dict/all_vggface.json\")\n",
    "results.print(round_scores=True)"
   ]
  },
  {
   "cell_type": "code",
   "execution_count": 1,
   "metadata": {},
   "outputs": [
    {
     "name": "stderr",
     "output_type": "stream",
     "text": [
      "[INFO]: Feature Extraction:   0%|          | 0/2 [00:00<?, ?it/s]"
     ]
    },
    {
     "ename": "",
     "evalue": "",
     "output_type": "error",
     "traceback": [
      "\u001b[1;31mCannot execute code, session has been disposed. Please try restarting the Kernel."
     ]
    },
    {
     "ename": "",
     "evalue": "",
     "output_type": "error",
     "traceback": [
      "\u001b[1;31mThe Kernel crashed while executing code in the the current cell or a previous cell. Please review the code in the cell(s) to identify a possible cause of the failure. Click <a href='https://aka.ms/vscodeJupyterKernelCrash'>here</a> for more info. View Jupyter <a href='command:jupyter.viewOutput'>log</a> for further details."
     ]
    }
   ],
   "source": [
    "import tensorflow as tf\n",
    "from keras_vggface.vggface import VGGFace\n",
    "import keras\n",
    "import torch\n",
    "from tqdm import tqdm\n",
    "\n",
    "from torch.utils.data import DataLoader\n",
    "from torch.utils.data.sampler import SequentialSampler\n",
    "from framework.datasets import SimpleDataset\n",
    "\n",
    "# dummy data\n",
    "torch_tensor = torch.zeros(100, 3, 224, 224)\n",
    "dataset = SimpleDataset(torch_tensor)\n",
    "dataloader = DataLoader(dataset, batch_size=64, sampler=SequentialSampler(dataset))\n",
    "features = []\n",
    "\n",
    "gpus = tf.config.list_physical_devices('GPU')\n",
    "if gpus:\n",
    "  try:\n",
    "    # Currently, memory growth needs to be the same across GPUs\n",
    "    for gpu in gpus:\n",
    "      tf.config.experimental.set_memory_growth(gpu, True)\n",
    "  except RuntimeError as e:\n",
    "    # Memory growth must be set before GPUs have been initialized\n",
    "    print(e)\n",
    "\n",
    "with tf.device('/CPU:0'):           \n",
    "    # load VGG Face model\n",
    "    vggface_model = VGGFace(model='resnet50', include_top=True)\n",
    "    layer_name = 'avg_pool'\n",
    "    out = vggface_model.get_layer(layer_name).output\n",
    "    out2 = vggface_model.get_layer('classifier').output\n",
    "    # create keras model\n",
    "    vggface_fe = tf.keras.Model(vggface_model.input, [out,out2])\n",
    "    for tensor in tqdm(dataloader, ascii=True, desc=\"[INFO]: Feature Extraction\"):\n",
    "        with tf.device('/GPU:0'):\n",
    "            # pytorch -> tensorflow\n",
    "            tf_tensor = tf.convert_to_tensor(tensor.permute(0,2,3,1).numpy())\n",
    "            feature = vggface_fe(tf_tensor)\n",
    "        # print(f\"Shape: {feature.shape}, Device: {feature.device}\")\n",
    "        # tensorflow -> pytorch\n",
    "        features.append(torch.from_numpy(feature.numpy()))\n",
    "\n",
    "features = torch.vstack(features).squeeze()\n",
    "print(features.size())"
   ]
  },
  {
   "cell_type": "code",
   "execution_count": 1,
   "metadata": {},
   "outputs": [
    {
     "name": "stdout",
     "output_type": "stream",
     "text": [
      "torch.Size([100, 2048])\n",
      "torch.Size([100, 8631])\n"
     ]
    }
   ],
   "source": [
    "import torch\n",
    "import torch.nn.functional as F\n",
    "from framework.feature_extractor.vggface_nn_module import VGGFaceNNModule\n",
    "\n",
    "samples = torch.randn(100, 3, 64, 64)\n",
    "\n",
    "VGGFaceNNModule\n",
    "\n",
    "fe = VGGFaceNNModule()\n",
    "pool, logits = fe(samples)\n",
    "print(pool.size())\n",
    "print(logits.size())\n"
   ]
  },
  {
   "cell_type": "code",
   "execution_count": null,
   "metadata": {},
   "outputs": [],
   "source": []
  }
 ],
 "metadata": {
  "kernelspec": {
   "display_name": "GIM-Eval",
   "language": "python",
   "name": "python3"
  },
  "language_info": {
   "codemirror_mode": {
    "name": "ipython",
    "version": 3
   },
   "file_extension": ".py",
   "mimetype": "text/x-python",
   "name": "python",
   "nbconvert_exporter": "python",
   "pygments_lexer": "ipython3",
   "version": "3.10.12"
  },
  "orig_nbformat": 4
 },
 "nbformat": 4,
 "nbformat_minor": 2
}
