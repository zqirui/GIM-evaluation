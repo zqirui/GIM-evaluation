{
 "cells": [
  {
   "cell_type": "code",
   "execution_count": null,
   "metadata": {},
   "outputs": [],
   "source": [
    "from framework.platform import PlatformManager\n",
    "from framework.configs import PlatformConfig, EvalConfig\n",
    "import os\n",
    "\n",
    "\n",
    "eval_cfg = EvalConfig(\n",
    "    inception_score=True,\n",
    "    fid=True,\n",
    "    kid=True,\n",
    "    prc=False,\n",
    "    fid_infinity=False,\n",
    "    is_infinity=False,\n",
    "    clean_fid=False,\n",
    "    clean_kid=False,\n",
    "    clean_fid_batch_size=32,\n",
    "    clean_kid_batch_size=32,\n",
    ")\n",
    "\n",
    "platform_cfg = PlatformConfig(\n",
    "    verbose=True,\n",
    "    cuda=True,\n",
    "    save_cpu_ram=False,\n",
    "    compare_real_to_real=True\n",
    ")\n",
    "\n",
    "platform_manager = PlatformManager(real_images_path=os.path.join(os.getcwd(), \"original_64\"),\n",
    "                                   eval_config=eval_cfg,\n",
    "                                   platform_config=platform_cfg)\n",
    "\n",
    "result_dict = platform_manager.calc_metrics()\n",
    "result_dict.print()\n",
    "result_dict.write_to_json(file=\"is_fid_infty.json\")"
   ]
  },
  {
   "cell_type": "code",
   "execution_count": 1,
   "metadata": {},
   "outputs": [
    {
     "name": "stdout",
     "output_type": "stream",
     "text": [
      "[INFO]: Real images source found, name:CelebA64 (Original)\n",
      "[INFO]: 4 different generator sources found. Names:\n",
      "cifar-10\n",
      "diffusionStyleGAN2\n",
      "diffusionVAE\n",
      "guidedDiffusion_IP\n",
      "[INFO]: Comparison real-to-real (True)\n",
      "[START]: Calculating Metrics for cifar-10\n",
      "[INFO]: Start Calculation C2ST-1NN, Source = cifar-10\n",
      "[INFO]: Feature Extractor used: InceptionV3\n",
      "[INFO]: Downsampling real data\n",
      "[INFO]: Compute real features\n"
     ]
    },
    {
     "name": "stderr",
     "output_type": "stream",
     "text": [
      "[INFO]: Feature Extraction: 100%|##########| 782/782 [01:19<00:00,  9.80it/s]\n"
     ]
    },
    {
     "name": "stdout",
     "output_type": "stream",
     "text": [
      "[INFO]: Downsampling generated data\n",
      "[INFO]: Compute generated features\n"
     ]
    },
    {
     "name": "stderr",
     "output_type": "stream",
     "text": [
      "[INFO]: Feature Extraction: 100%|##########| 782/782 [01:17<00:00, 10.07it/s]\n",
      "[INFO]: KNN Cross Valiation: 100%|##########| 5/5 [00:26<00:00,  5.36s/it]\n"
     ]
    },
    {
     "name": "stdout",
     "output_type": "stream",
     "text": [
      "[INFO]: C2ST-1NN finished\n",
      "[FINISHED]: Calculating Metrics for cifar-10\n",
      "{'C2ST Adaptive KNN Accuracy': 0.98712, 'C2ST Adaptive KNN Normalized': 0.025760000000000005}\n",
      "[START]: Calculating Metrics for diffusionStyleGAN2\n",
      "[INFO]: Start Calculation C2ST-1NN, Source = diffusionStyleGAN2\n",
      "[INFO]: Feature Extractor used: InceptionV3\n",
      "[INFO]: Used cached real features\n",
      "[INFO]: Downsampling generated data\n",
      "[INFO]: Compute generated features\n"
     ]
    },
    {
     "name": "stderr",
     "output_type": "stream",
     "text": [
      "[INFO]: Feature Extraction: 100%|##########| 782/782 [01:17<00:00, 10.09it/s]\n",
      "[INFO]: KNN Cross Valiation: 100%|##########| 5/5 [00:26<00:00,  5.28s/it]\n"
     ]
    },
    {
     "name": "stdout",
     "output_type": "stream",
     "text": [
      "[INFO]: C2ST-1NN finished\n",
      "[FINISHED]: Calculating Metrics for diffusionStyleGAN2\n",
      "{'C2ST Adaptive KNN Accuracy': 0.72324, 'C2ST Adaptive KNN Normalized': 0.55352}\n",
      "[START]: Calculating Metrics for diffusionVAE\n",
      "[INFO]: Start Calculation C2ST-1NN, Source = diffusionVAE\n",
      "[INFO]: Feature Extractor used: InceptionV3\n",
      "[INFO]: Used cached real features\n",
      "[INFO]: Downsampling generated data\n",
      "[INFO]: Compute generated features\n"
     ]
    },
    {
     "name": "stderr",
     "output_type": "stream",
     "text": [
      "[INFO]: Feature Extraction: 100%|##########| 782/782 [01:17<00:00, 10.10it/s]\n",
      "[INFO]: KNN Cross Valiation: 100%|##########| 5/5 [00:26<00:00,  5.30s/it]\n"
     ]
    },
    {
     "name": "stdout",
     "output_type": "stream",
     "text": [
      "[INFO]: C2ST-1NN finished\n",
      "[FINISHED]: Calculating Metrics for diffusionVAE\n",
      "{'C2ST Adaptive KNN Accuracy': 0.90848, 'C2ST Adaptive KNN Normalized': 0.1830400000000001}\n",
      "[START]: Calculating Metrics for guidedDiffusion_IP\n",
      "[INFO]: Start Calculation C2ST-1NN, Source = guidedDiffusion_IP\n",
      "[INFO]: Feature Extractor used: InceptionV3\n",
      "[INFO]: Used cached real features\n",
      "[INFO]: Downsampling generated data\n",
      "[INFO]: Compute generated features\n"
     ]
    },
    {
     "name": "stderr",
     "output_type": "stream",
     "text": [
      "[INFO]: Feature Extraction: 100%|##########| 782/782 [01:17<00:00, 10.07it/s]\n",
      "[INFO]: KNN Cross Valiation: 100%|##########| 5/5 [00:27<00:00,  5.44s/it]\n"
     ]
    },
    {
     "name": "stdout",
     "output_type": "stream",
     "text": [
      "[INFO]: C2ST-1NN finished\n",
      "[FINISHED]: Calculating Metrics for guidedDiffusion_IP\n",
      "{'C2ST Adaptive KNN Accuracy': 0.5917000000000001, 'C2ST Adaptive KNN Normalized': 0.8165999999999998}\n",
      "[START]: Calculating Metrics for CelebA64 (Original)\n",
      "[INFO]: Start Calculation C2ST-1NN, Source = CelebA64 (Original)\n",
      "[INFO]: Feature Extractor used: InceptionV3\n",
      "[INFO]: Used cached real features\n",
      "[INFO]: Compute generated features\n"
     ]
    },
    {
     "name": "stderr",
     "output_type": "stream",
     "text": [
      "[INFO]: KNN Cross Valiation: 100%|##########| 5/5 [00:26<00:00,  5.29s/it]"
     ]
    },
    {
     "name": "stdout",
     "output_type": "stream",
     "text": [
      "[INFO]: C2ST-1NN finished\n",
      "[FINISHED]: Calculating Metrics for CelebA64 (Original)\n",
      "{'C2ST Adaptive KNN Accuracy': 0.5, 'C2ST Adaptive KNN Normalized': 1.0}\n",
      "------------------------------------\n",
      "Generator Name: cifar-10\n",
      "------------------------------------\n",
      "C2ST Adaptive KNN Accuracy: 0.98712\n",
      "C2ST Adaptive KNN Normalized: 0.025760000000000005\n",
      "------------------------------------\n",
      "Generator Name: diffusionStyleGAN2\n",
      "------------------------------------\n",
      "C2ST Adaptive KNN Accuracy: 0.72324\n",
      "C2ST Adaptive KNN Normalized: 0.55352\n",
      "------------------------------------\n",
      "Generator Name: diffusionVAE\n",
      "------------------------------------\n",
      "C2ST Adaptive KNN Accuracy: 0.90848\n",
      "C2ST Adaptive KNN Normalized: 0.1830400000000001\n",
      "------------------------------------\n",
      "Generator Name: guidedDiffusion_IP\n",
      "------------------------------------\n",
      "C2ST Adaptive KNN Accuracy: 0.5917000000000001\n",
      "C2ST Adaptive KNN Normalized: 0.8165999999999998\n",
      "------------------------------------\n",
      "Generator Name: CelebA64 (Original)\n",
      "------------------------------------\n",
      "C2ST Adaptive KNN Accuracy: 0.5\n",
      "C2ST Adaptive KNN Normalized: 1.0\n"
     ]
    },
    {
     "name": "stderr",
     "output_type": "stream",
     "text": [
      "\n"
     ]
    }
   ],
   "source": [
    "from framework.platform import PlatformManager\n",
    "from framework.configs import PlatformConfig, EvalConfig\n",
    "import os\n",
    "\n",
    "\n",
    "\n",
    "eval_cfg = EvalConfig(\n",
    "    c2st_knn=True,\n",
    "    c2st_k=1,\n",
    "    c2st_k_adaptive=True,\n",
    "    c2st_num_samples=25000,\n",
    "    c2st_folds=5,\n",
    ")\n",
    "\n",
    "platform_cfg = PlatformConfig(\n",
    "    verbose=True,\n",
    "    cuda=True,\n",
    "    save_cpu_ram=False,\n",
    "    compare_real_to_real=True,\n",
    "    num_worker=16,\n",
    ")\n",
    "\n",
    "platform_manager = PlatformManager(real_images_path=os.path.join(os.getcwd(), \"original_64\"),\n",
    "                                   eval_config=eval_cfg,\n",
    "                                   platform_config=platform_cfg)\n",
    "\n",
    "result_dict = platform_manager.calc_metrics()\n",
    "result_dict.print()\n",
    "result_dict.write_to_json(file=\"c2st_2.json\")"
   ]
  },
  {
   "cell_type": "code",
   "execution_count": 2,
   "metadata": {},
   "outputs": [
    {
     "name": "stdout",
     "output_type": "stream",
     "text": [
      "------------------------------------\n",
      "Generator Name: cifar-10\n",
      "------------------------------------\n",
      "Inception Score Mean: 11.189\n",
      "Inception Score Std: 0.115\n",
      "Frechet Inception Distance: 204.998\n",
      "Kernel Inception Distance Mean: 0.186\n",
      "Kernel Inception Distance Std: 0.003\n",
      "Precision: 0.085\n",
      "Recall: 0.001\n",
      "F1 Score: 0.002\n",
      "FID Infinity (Approx.): 225.647\n",
      "IS Infinity (Approx.): 9.475\n",
      "Clean FID: 211.253\n",
      "Clean KID: 0.195\n",
      "LS: 0.557\n",
      "C2ST Adaptive KNN Accuracy: 0.987\n",
      "C2ST Adaptive KNN Normalized: 0.026\n",
      "------------------------------------\n",
      "Generator Name: diffusionStyleGAN2\n",
      "------------------------------------\n",
      "Inception Score Mean: 3.117\n",
      "Inception Score Std: 0.028\n",
      "Frechet Inception Distance: 11.367\n",
      "Kernel Inception Distance Mean: 0.011\n",
      "Kernel Inception Distance Std: 0.001\n",
      "Precision: 0.613\n",
      "Recall: 0.362\n",
      "F1 Score: 0.455\n",
      "FID Infinity (Approx.): 8.723\n",
      "IS Infinity (Approx.): 3.16\n",
      "Clean FID: 11.949\n",
      "Clean KID: 0.011\n",
      "LS: 0.593\n",
      "C2ST Adaptive KNN Accuracy: 0.723\n",
      "C2ST Adaptive KNN Normalized: 0.554\n",
      "------------------------------------\n",
      "Generator Name: diffusionVAE\n",
      "------------------------------------\n",
      "Inception Score Mean: 3.032\n",
      "Inception Score Std: 0.039\n",
      "Frechet Inception Distance: 16.495\n",
      "Kernel Inception Distance Mean: 0.016\n",
      "Kernel Inception Distance Std: 0.001\n",
      "Precision: 0.792\n",
      "Recall: 0.157\n",
      "F1 Score: 0.263\n",
      "FID Infinity (Approx.): 11.675\n",
      "IS Infinity (Approx.): 2.835\n",
      "Clean FID: 19.804\n",
      "Clean KID: 0.02\n",
      "LS: 0.604\n",
      "C2ST Adaptive KNN Accuracy: 0.908\n",
      "C2ST Adaptive KNN Normalized: 0.183\n",
      "------------------------------------\n",
      "Generator Name: guidedDiffusion_IP\n",
      "------------------------------------\n",
      "Inception Score Mean: 2.937\n",
      "Inception Score Std: 0.025\n",
      "Frechet Inception Distance: 7.617\n",
      "Kernel Inception Distance Mean: 0.009\n",
      "Kernel Inception Distance Std: 0.001\n",
      "Precision: 0.55\n",
      "Recall: 0.439\n",
      "F1 Score: 0.488\n",
      "FID Infinity (Approx.): 7.078\n",
      "IS Infinity (Approx.): 2.867\n",
      "Clean FID: 9.757\n",
      "Clean KID: 0.011\n",
      "LS: 0.628\n",
      "C2ST Adaptive KNN Accuracy: 0.592\n",
      "C2ST Adaptive KNN Normalized: 0.817\n",
      "------------------------------------\n",
      "Generator Name: CelebA_Original\n",
      "------------------------------------\n",
      "Inception Score Mean: 3.586\n",
      "Inception Score Std: 0.02\n",
      "Frechet Inception Distance: -0.0\n",
      "Kernel Inception Distance Mean: -0.0\n",
      "Kernel Inception Distance Std: 0.0\n",
      "Precision: 0.737\n",
      "Recall: 0.739\n",
      "F1 Score: 0.738\n",
      "FID Infinity (Approx.): -0.069\n",
      "IS Infinity (Approx.): 3.434\n",
      "Clean FID: -0.0\n",
      "Clean KID: -0.0\n",
      "LS: 1.0\n",
      "C2ST Adaptive KNN Accuracy: 0.5\n",
      "C2ST Adaptive KNN Normalized: 1.0\n"
     ]
    }
   ],
   "source": [
    "from framework.platform import ResultDict\n",
    "\n",
    "results = ResultDict({})\n",
    "results.read_from_json(\"all.json\")\n",
    "results.print(round_scores=True)"
   ]
  }
 ],
 "metadata": {
  "kernelspec": {
   "display_name": "GIM-Eval",
   "language": "python",
   "name": "python3"
  },
  "language_info": {
   "codemirror_mode": {
    "name": "ipython",
    "version": 3
   },
   "file_extension": ".py",
   "mimetype": "text/x-python",
   "name": "python",
   "nbconvert_exporter": "python",
   "pygments_lexer": "ipython3",
   "version": "3.10.12"
  },
  "orig_nbformat": 4
 },
 "nbformat": 4,
 "nbformat_minor": 2
}
